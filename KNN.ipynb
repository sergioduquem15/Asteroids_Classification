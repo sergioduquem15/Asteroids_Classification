{
 "cells": [
  {
   "cell_type": "markdown",
   "metadata": {},
   "source": [
    "# Implementación del algoritmo KNN "
   ]
  },
  {
   "cell_type": "code",
   "execution_count": 1,
   "metadata": {},
   "outputs": [],
   "source": [
    "from sklearn.neighbors import KNeighborsClassifier\n",
    "from sklearn.model_selection import train_test_split\n",
    "from sklearn.model_selection import validation_curve\n",
    "from sklearn import metrics\n",
    "from sklearn.metrics import confusion_matrix\n",
    "from sklearn.model_selection import GridSearchCV\n",
    "from sklearn.metrics import classification_report\n",
    "from sklearn.decomposition import PCA\n",
    "from sklearn.model_selection import cross_val_score\n",
    "from sklearn.preprocessing import StandardScaler\n",
    "from sklearn.model_selection import GridSearchCV\n",
    "\n",
    "\n",
    "import matplotlib.pyplot as plt\n",
    "import seaborn as sns\n",
    "import pandas as pd\n",
    "import numpy as np"
   ]
  },
  {
   "cell_type": "code",
   "execution_count": 2,
   "metadata": {},
   "outputs": [
    {
     "data": {
      "text/html": [
       "<div>\n",
       "<style scoped>\n",
       "    .dataframe tbody tr th:only-of-type {\n",
       "        vertical-align: middle;\n",
       "    }\n",
       "\n",
       "    .dataframe tbody tr th {\n",
       "        vertical-align: top;\n",
       "    }\n",
       "\n",
       "    .dataframe thead th {\n",
       "        text-align: right;\n",
       "    }\n",
       "</style>\n",
       "<table border=\"1\" class=\"dataframe\">\n",
       "  <thead>\n",
       "    <tr style=\"text-align: right;\">\n",
       "      <th></th>\n",
       "      <th>name</th>\n",
       "      <th>spect_b</th>\n",
       "      <th>0.45</th>\n",
       "      <th>0.452002002002002</th>\n",
       "      <th>0.45400400400400404</th>\n",
       "      <th>0.456006006006006</th>\n",
       "      <th>0.458008008008008</th>\n",
       "      <th>0.46001001001001</th>\n",
       "      <th>0.46201201201201203</th>\n",
       "      <th>0.46401401401401404</th>\n",
       "      <th>...</th>\n",
       "      <th>2.431981981981982</th>\n",
       "      <th>2.433983983983984</th>\n",
       "      <th>2.4359859859859863</th>\n",
       "      <th>2.437987987987988</th>\n",
       "      <th>2.43998998998999</th>\n",
       "      <th>2.441991991991992</th>\n",
       "      <th>2.443993993993994</th>\n",
       "      <th>2.4459959959959963</th>\n",
       "      <th>2.447997997997998</th>\n",
       "      <th>2.45</th>\n",
       "    </tr>\n",
       "  </thead>\n",
       "  <tbody>\n",
       "    <tr>\n",
       "      <th>0</th>\n",
       "      <td>Abehiroshi</td>\n",
       "      <td>V</td>\n",
       "      <td>0.9765</td>\n",
       "      <td>0.873727</td>\n",
       "      <td>0.802019</td>\n",
       "      <td>0.908693</td>\n",
       "      <td>0.992507</td>\n",
       "      <td>0.892887</td>\n",
       "      <td>0.806158</td>\n",
       "      <td>0.822114</td>\n",
       "      <td>...</td>\n",
       "      <td>1.453882</td>\n",
       "      <td>1.428696</td>\n",
       "      <td>1.286868</td>\n",
       "      <td>1.095002</td>\n",
       "      <td>0.999979</td>\n",
       "      <td>1.100082</td>\n",
       "      <td>1.281601</td>\n",
       "      <td>1.382604</td>\n",
       "      <td>1.370983</td>\n",
       "      <td>1.3453</td>\n",
       "    </tr>\n",
       "    <tr>\n",
       "      <th>1</th>\n",
       "      <td>Senrikyu</td>\n",
       "      <td>B</td>\n",
       "      <td>1.1423</td>\n",
       "      <td>1.104633</td>\n",
       "      <td>1.062175</td>\n",
       "      <td>0.996224</td>\n",
       "      <td>0.949799</td>\n",
       "      <td>1.010879</td>\n",
       "      <td>1.060699</td>\n",
       "      <td>1.024171</td>\n",
       "      <td>...</td>\n",
       "      <td>0.991043</td>\n",
       "      <td>0.997508</td>\n",
       "      <td>1.001280</td>\n",
       "      <td>1.001278</td>\n",
       "      <td>1.000005</td>\n",
       "      <td>0.999570</td>\n",
       "      <td>0.999831</td>\n",
       "      <td>1.000092</td>\n",
       "      <td>1.000091</td>\n",
       "      <td>1.0000</td>\n",
       "    </tr>\n",
       "    <tr>\n",
       "      <th>2</th>\n",
       "      <td>Robinson</td>\n",
       "      <td>Sr</td>\n",
       "      <td>0.8445</td>\n",
       "      <td>0.770504</td>\n",
       "      <td>0.786651</td>\n",
       "      <td>0.801385</td>\n",
       "      <td>0.780085</td>\n",
       "      <td>0.812111</td>\n",
       "      <td>0.815159</td>\n",
       "      <td>0.828218</td>\n",
       "      <td>...</td>\n",
       "      <td>1.696828</td>\n",
       "      <td>1.687543</td>\n",
       "      <td>1.699685</td>\n",
       "      <td>1.727674</td>\n",
       "      <td>1.741618</td>\n",
       "      <td>1.724284</td>\n",
       "      <td>1.714307</td>\n",
       "      <td>1.760465</td>\n",
       "      <td>1.817740</td>\n",
       "      <td>1.7467</td>\n",
       "    </tr>\n",
       "    <tr>\n",
       "      <th>3</th>\n",
       "      <td>Paris</td>\n",
       "      <td>T</td>\n",
       "      <td>0.9238</td>\n",
       "      <td>0.935045</td>\n",
       "      <td>0.928104</td>\n",
       "      <td>0.933731</td>\n",
       "      <td>0.943692</td>\n",
       "      <td>0.937315</td>\n",
       "      <td>0.953128</td>\n",
       "      <td>0.967190</td>\n",
       "      <td>...</td>\n",
       "      <td>2.056997</td>\n",
       "      <td>1.990262</td>\n",
       "      <td>1.979909</td>\n",
       "      <td>2.040457</td>\n",
       "      <td>1.958246</td>\n",
       "      <td>1.594457</td>\n",
       "      <td>1.155880</td>\n",
       "      <td>0.926450</td>\n",
       "      <td>0.944271</td>\n",
       "      <td>1.0000</td>\n",
       "    </tr>\n",
       "    <tr>\n",
       "      <th>4</th>\n",
       "      <td>Farinella</td>\n",
       "      <td>D</td>\n",
       "      <td>0.8795</td>\n",
       "      <td>0.953828</td>\n",
       "      <td>0.956625</td>\n",
       "      <td>0.849646</td>\n",
       "      <td>0.784283</td>\n",
       "      <td>0.867913</td>\n",
       "      <td>0.938608</td>\n",
       "      <td>0.909334</td>\n",
       "      <td>...</td>\n",
       "      <td>1.482280</td>\n",
       "      <td>1.065135</td>\n",
       "      <td>1.077220</td>\n",
       "      <td>1.503595</td>\n",
       "      <td>1.945946</td>\n",
       "      <td>2.089067</td>\n",
       "      <td>2.025298</td>\n",
       "      <td>1.945494</td>\n",
       "      <td>1.926199</td>\n",
       "      <td>1.9289</td>\n",
       "    </tr>\n",
       "  </tbody>\n",
       "</table>\n",
       "<p>5 rows × 1002 columns</p>\n",
       "</div>"
      ],
      "text/plain": [
       "         name spect_b    0.45  0.452002002002002  0.45400400400400404  \\\n",
       "0  Abehiroshi       V  0.9765           0.873727             0.802019   \n",
       "1    Senrikyu       B  1.1423           1.104633             1.062175   \n",
       "2    Robinson      Sr  0.8445           0.770504             0.786651   \n",
       "3       Paris       T  0.9238           0.935045             0.928104   \n",
       "4   Farinella       D  0.8795           0.953828             0.956625   \n",
       "\n",
       "   0.456006006006006  0.458008008008008  0.46001001001001  \\\n",
       "0           0.908693           0.992507          0.892887   \n",
       "1           0.996224           0.949799          1.010879   \n",
       "2           0.801385           0.780085          0.812111   \n",
       "3           0.933731           0.943692          0.937315   \n",
       "4           0.849646           0.784283          0.867913   \n",
       "\n",
       "   0.46201201201201203  0.46401401401401404  ...  2.431981981981982  \\\n",
       "0             0.806158             0.822114  ...           1.453882   \n",
       "1             1.060699             1.024171  ...           0.991043   \n",
       "2             0.815159             0.828218  ...           1.696828   \n",
       "3             0.953128             0.967190  ...           2.056997   \n",
       "4             0.938608             0.909334  ...           1.482280   \n",
       "\n",
       "   2.433983983983984  2.4359859859859863  2.437987987987988  2.43998998998999  \\\n",
       "0           1.428696            1.286868           1.095002          0.999979   \n",
       "1           0.997508            1.001280           1.001278          1.000005   \n",
       "2           1.687543            1.699685           1.727674          1.741618   \n",
       "3           1.990262            1.979909           2.040457          1.958246   \n",
       "4           1.065135            1.077220           1.503595          1.945946   \n",
       "\n",
       "   2.441991991991992  2.443993993993994  2.4459959959959963  \\\n",
       "0           1.100082           1.281601            1.382604   \n",
       "1           0.999570           0.999831            1.000092   \n",
       "2           1.724284           1.714307            1.760465   \n",
       "3           1.594457           1.155880            0.926450   \n",
       "4           2.089067           2.025298            1.945494   \n",
       "\n",
       "   2.447997997997998    2.45  \n",
       "0           1.370983  1.3453  \n",
       "1           1.000091  1.0000  \n",
       "2           1.817740  1.7467  \n",
       "3           0.944271  1.0000  \n",
       "4           1.926199  1.9289  \n",
       "\n",
       "[5 rows x 1002 columns]"
      ]
     },
     "execution_count": 2,
     "metadata": {},
     "output_type": "execute_result"
    }
   ],
   "source": [
    "df = pd.read_csv('data_final.txt', sep='\\t')\n",
    "df.head()"
   ]
  },
  {
   "cell_type": "code",
   "execution_count": 3,
   "metadata": {},
   "outputs": [
    {
     "data": {
      "text/html": [
       "<div>\n",
       "<style scoped>\n",
       "    .dataframe tbody tr th:only-of-type {\n",
       "        vertical-align: middle;\n",
       "    }\n",
       "\n",
       "    .dataframe tbody tr th {\n",
       "        vertical-align: top;\n",
       "    }\n",
       "\n",
       "    .dataframe thead th {\n",
       "        text-align: right;\n",
       "    }\n",
       "</style>\n",
       "<table border=\"1\" class=\"dataframe\">\n",
       "  <thead>\n",
       "    <tr style=\"text-align: right;\">\n",
       "      <th></th>\n",
       "      <th>name</th>\n",
       "      <th>spect_b</th>\n",
       "      <th>0.45</th>\n",
       "      <th>0.452002002002002</th>\n",
       "      <th>0.45400400400400404</th>\n",
       "      <th>0.456006006006006</th>\n",
       "      <th>0.458008008008008</th>\n",
       "      <th>0.46001001001001</th>\n",
       "      <th>0.46201201201201203</th>\n",
       "      <th>0.46401401401401404</th>\n",
       "      <th>...</th>\n",
       "      <th>2.431981981981982</th>\n",
       "      <th>2.433983983983984</th>\n",
       "      <th>2.4359859859859863</th>\n",
       "      <th>2.437987987987988</th>\n",
       "      <th>2.43998998998999</th>\n",
       "      <th>2.441991991991992</th>\n",
       "      <th>2.443993993993994</th>\n",
       "      <th>2.4459959959959963</th>\n",
       "      <th>2.447997997997998</th>\n",
       "      <th>2.45</th>\n",
       "    </tr>\n",
       "  </thead>\n",
       "  <tbody>\n",
       "    <tr>\n",
       "      <th>0</th>\n",
       "      <td>Hirundo</td>\n",
       "      <td>Cgh</td>\n",
       "      <td>0.8977</td>\n",
       "      <td>0.891113</td>\n",
       "      <td>0.893696</td>\n",
       "      <td>0.896894</td>\n",
       "      <td>0.898745</td>\n",
       "      <td>0.907548</td>\n",
       "      <td>0.916655</td>\n",
       "      <td>0.926632</td>\n",
       "      <td>...</td>\n",
       "      <td>1.227603</td>\n",
       "      <td>1.232022</td>\n",
       "      <td>1.233962</td>\n",
       "      <td>1.233960</td>\n",
       "      <td>1.232906</td>\n",
       "      <td>1.231569</td>\n",
       "      <td>1.230139</td>\n",
       "      <td>1.228630</td>\n",
       "      <td>1.226311</td>\n",
       "      <td>1.2217</td>\n",
       "    </tr>\n",
       "    <tr>\n",
       "      <th>1</th>\n",
       "      <td>Europa</td>\n",
       "      <td>C</td>\n",
       "      <td>0.9147</td>\n",
       "      <td>0.923830</td>\n",
       "      <td>0.923655</td>\n",
       "      <td>0.927794</td>\n",
       "      <td>0.937310</td>\n",
       "      <td>0.938574</td>\n",
       "      <td>0.930813</td>\n",
       "      <td>0.933986</td>\n",
       "      <td>...</td>\n",
       "      <td>1.304552</td>\n",
       "      <td>1.303959</td>\n",
       "      <td>1.303771</td>\n",
       "      <td>1.304766</td>\n",
       "      <td>1.306391</td>\n",
       "      <td>1.307985</td>\n",
       "      <td>1.308680</td>\n",
       "      <td>1.307761</td>\n",
       "      <td>1.309303</td>\n",
       "      <td>1.3222</td>\n",
       "    </tr>\n",
       "    <tr>\n",
       "      <th>2</th>\n",
       "      <td>Psyche</td>\n",
       "      <td>X</td>\n",
       "      <td>0.9084</td>\n",
       "      <td>0.924730</td>\n",
       "      <td>0.930489</td>\n",
       "      <td>0.925401</td>\n",
       "      <td>0.908388</td>\n",
       "      <td>0.894143</td>\n",
       "      <td>0.921720</td>\n",
       "      <td>0.932843</td>\n",
       "      <td>...</td>\n",
       "      <td>1.483241</td>\n",
       "      <td>1.484491</td>\n",
       "      <td>1.474793</td>\n",
       "      <td>1.464199</td>\n",
       "      <td>1.483277</td>\n",
       "      <td>1.539929</td>\n",
       "      <td>1.546255</td>\n",
       "      <td>1.396832</td>\n",
       "      <td>1.144221</td>\n",
       "      <td>1.0000</td>\n",
       "    </tr>\n",
       "    <tr>\n",
       "      <th>3</th>\n",
       "      <td>Hebe</td>\n",
       "      <td>S</td>\n",
       "      <td>0.8858</td>\n",
       "      <td>0.905882</td>\n",
       "      <td>0.861419</td>\n",
       "      <td>0.850516</td>\n",
       "      <td>0.886861</td>\n",
       "      <td>0.880098</td>\n",
       "      <td>0.863066</td>\n",
       "      <td>0.879971</td>\n",
       "      <td>...</td>\n",
       "      <td>1.210015</td>\n",
       "      <td>1.065867</td>\n",
       "      <td>0.958425</td>\n",
       "      <td>0.941561</td>\n",
       "      <td>0.999554</td>\n",
       "      <td>1.108919</td>\n",
       "      <td>1.227369</td>\n",
       "      <td>1.308741</td>\n",
       "      <td>1.327765</td>\n",
       "      <td>1.2802</td>\n",
       "    </tr>\n",
       "    <tr>\n",
       "      <th>4</th>\n",
       "      <td>Wood</td>\n",
       "      <td>S</td>\n",
       "      <td>0.8547</td>\n",
       "      <td>0.852304</td>\n",
       "      <td>0.850983</td>\n",
       "      <td>0.857229</td>\n",
       "      <td>0.858517</td>\n",
       "      <td>0.859017</td>\n",
       "      <td>0.865424</td>\n",
       "      <td>0.871978</td>\n",
       "      <td>...</td>\n",
       "      <td>1.361696</td>\n",
       "      <td>1.359801</td>\n",
       "      <td>1.347493</td>\n",
       "      <td>1.334237</td>\n",
       "      <td>1.344745</td>\n",
       "      <td>1.385816</td>\n",
       "      <td>1.388723</td>\n",
       "      <td>1.271191</td>\n",
       "      <td>1.081631</td>\n",
       "      <td>1.0000</td>\n",
       "    </tr>\n",
       "  </tbody>\n",
       "</table>\n",
       "<p>5 rows × 1002 columns</p>\n",
       "</div>"
      ],
      "text/plain": [
       "      name spect_b    0.45  0.452002002002002  0.45400400400400404  \\\n",
       "0  Hirundo     Cgh  0.8977           0.891113             0.893696   \n",
       "1   Europa       C  0.9147           0.923830             0.923655   \n",
       "2   Psyche       X  0.9084           0.924730             0.930489   \n",
       "3     Hebe       S  0.8858           0.905882             0.861419   \n",
       "4     Wood       S  0.8547           0.852304             0.850983   \n",
       "\n",
       "   0.456006006006006  0.458008008008008  0.46001001001001  \\\n",
       "0           0.896894           0.898745          0.907548   \n",
       "1           0.927794           0.937310          0.938574   \n",
       "2           0.925401           0.908388          0.894143   \n",
       "3           0.850516           0.886861          0.880098   \n",
       "4           0.857229           0.858517          0.859017   \n",
       "\n",
       "   0.46201201201201203  0.46401401401401404  ...  2.431981981981982  \\\n",
       "0             0.916655             0.926632  ...           1.227603   \n",
       "1             0.930813             0.933986  ...           1.304552   \n",
       "2             0.921720             0.932843  ...           1.483241   \n",
       "3             0.863066             0.879971  ...           1.210015   \n",
       "4             0.865424             0.871978  ...           1.361696   \n",
       "\n",
       "   2.433983983983984  2.4359859859859863  2.437987987987988  2.43998998998999  \\\n",
       "0           1.232022            1.233962           1.233960          1.232906   \n",
       "1           1.303959            1.303771           1.304766          1.306391   \n",
       "2           1.484491            1.474793           1.464199          1.483277   \n",
       "3           1.065867            0.958425           0.941561          0.999554   \n",
       "4           1.359801            1.347493           1.334237          1.344745   \n",
       "\n",
       "   2.441991991991992  2.443993993993994  2.4459959959959963  \\\n",
       "0           1.231569           1.230139            1.228630   \n",
       "1           1.307985           1.308680            1.307761   \n",
       "2           1.539929           1.546255            1.396832   \n",
       "3           1.108919           1.227369            1.308741   \n",
       "4           1.385816           1.388723            1.271191   \n",
       "\n",
       "   2.447997997997998    2.45  \n",
       "0           1.226311  1.2217  \n",
       "1           1.309303  1.3222  \n",
       "2           1.144221  1.0000  \n",
       "3           1.327765  1.2802  \n",
       "4           1.081631  1.0000  \n",
       "\n",
       "[5 rows x 1002 columns]"
      ]
     },
     "execution_count": 3,
     "metadata": {},
     "output_type": "execute_result"
    }
   ],
   "source": [
    "# Mezclar el dtaset de forma aleatoria\n",
    "df = df.sample(frac=1).reset_index(drop=True)\n",
    "df.head()"
   ]
  },
  {
   "cell_type": "markdown",
   "metadata": {},
   "source": [
    "Se observa que el dataset está muy desbalanceado:"
   ]
  },
  {
   "cell_type": "code",
   "execution_count": 4,
   "metadata": {},
   "outputs": [
    {
     "data": {
      "text/plain": [
       "<matplotlib.axes._subplots.AxesSubplot at 0x1a21e66a10>"
      ]
     },
     "execution_count": 4,
     "metadata": {},
     "output_type": "execute_result"
    },
    {
     "data": {
      "image/png": "[encoded data removed]",
      "text/plain": [
       "<Figure size 432x288 with 1 Axes>"
      ]
     },
     "metadata": {
      "needs_background": "light"
     },
     "output_type": "display_data"
    }
   ],
   "source": [
    "sns.countplot(x='spect_b', data=df, palette='cool')"
   ]
  },
  {
   "cell_type": "markdown",
   "metadata": {},
   "source": [
    "Se eligen las 4 clases principales: **S,  h,  X,  C**  y quedan 100 asteroides:"
   ]
  },
  {
   "cell_type": "code",
   "execution_count": 5,
   "metadata": {},
   "outputs": [
    {
     "data": {
      "text/plain": [
       "(100, 1002)"
      ]
     },
     "execution_count": 5,
     "metadata": {},
     "output_type": "execute_result"
    }
   ],
   "source": [
    "df = df[(df.spect_b == 'S') | (df.spect_b == 'Ch') | (df.spect_b == 'X') | (df.spect_b == 'C') | (df.spect_b == 'Sl') | (df.spect_b == 'B') ]\n",
    "df.shape"
   ]
  },
  {
   "cell_type": "code",
   "execution_count": 6,
   "metadata": {},
   "outputs": [
    {
     "data": {
      "text/plain": [
       "<matplotlib.axes._subplots.AxesSubplot at 0x1a2227db90>"
      ]
     },
     "execution_count": 6,
     "metadata": {},
     "output_type": "execute_result"
    },
    {
     "data": {
      "image/png": "[encoded data removed]",
      "text/plain": [
       "<Figure size 432x288 with 1 Axes>"
      ]
     },
     "metadata": {
      "needs_background": "light"
     },
     "output_type": "display_data"
    }
   ],
   "source": [
    "sns.countplot(x='spect_b', data=df, palette='cool')"
   ]
  },
  {
   "cell_type": "markdown",
   "metadata": {},
   "source": [
    "Se divide en características (intensidad en cada longitud de onda) y labels (tipo espectral): "
   ]
  },
  {
   "cell_type": "code",
   "execution_count": 7,
   "metadata": {},
   "outputs": [
    {
     "data": {
      "text/html": [
       "<div>\n",
       "<style scoped>\n",
       "    .dataframe tbody tr th:only-of-type {\n",
       "        vertical-align: middle;\n",
       "    }\n",
       "\n",
       "    .dataframe tbody tr th {\n",
       "        vertical-align: top;\n",
       "    }\n",
       "\n",
       "    .dataframe thead th {\n",
       "        text-align: right;\n",
       "    }\n",
       "</style>\n",
       "<table border=\"1\" class=\"dataframe\">\n",
       "  <thead>\n",
       "    <tr style=\"text-align: right;\">\n",
       "      <th></th>\n",
       "      <th>0.45</th>\n",
       "      <th>0.452002002002002</th>\n",
       "      <th>0.45400400400400404</th>\n",
       "      <th>0.456006006006006</th>\n",
       "      <th>0.458008008008008</th>\n",
       "      <th>0.46001001001001</th>\n",
       "      <th>0.46201201201201203</th>\n",
       "      <th>0.46401401401401404</th>\n",
       "      <th>0.46601601601601605</th>\n",
       "      <th>0.468018018018018</th>\n",
       "      <th>...</th>\n",
       "      <th>2.431981981981982</th>\n",
       "      <th>2.433983983983984</th>\n",
       "      <th>2.4359859859859863</th>\n",
       "      <th>2.437987987987988</th>\n",
       "      <th>2.43998998998999</th>\n",
       "      <th>2.441991991991992</th>\n",
       "      <th>2.443993993993994</th>\n",
       "      <th>2.4459959959959963</th>\n",
       "      <th>2.447997997997998</th>\n",
       "      <th>2.45</th>\n",
       "    </tr>\n",
       "  </thead>\n",
       "  <tbody>\n",
       "    <tr>\n",
       "      <th>1</th>\n",
       "      <td>0.9147</td>\n",
       "      <td>0.923830</td>\n",
       "      <td>0.923655</td>\n",
       "      <td>0.927794</td>\n",
       "      <td>0.937310</td>\n",
       "      <td>0.938574</td>\n",
       "      <td>0.930813</td>\n",
       "      <td>0.933986</td>\n",
       "      <td>0.936350</td>\n",
       "      <td>0.927616</td>\n",
       "      <td>...</td>\n",
       "      <td>1.304552</td>\n",
       "      <td>1.303959</td>\n",
       "      <td>1.303771</td>\n",
       "      <td>1.304766</td>\n",
       "      <td>1.306391</td>\n",
       "      <td>1.307985</td>\n",
       "      <td>1.308680</td>\n",
       "      <td>1.307761</td>\n",
       "      <td>1.309303</td>\n",
       "      <td>1.3222</td>\n",
       "    </tr>\n",
       "    <tr>\n",
       "      <th>2</th>\n",
       "      <td>0.9084</td>\n",
       "      <td>0.924730</td>\n",
       "      <td>0.930489</td>\n",
       "      <td>0.925401</td>\n",
       "      <td>0.908388</td>\n",
       "      <td>0.894143</td>\n",
       "      <td>0.921720</td>\n",
       "      <td>0.932843</td>\n",
       "      <td>0.926268</td>\n",
       "      <td>0.923234</td>\n",
       "      <td>...</td>\n",
       "      <td>1.483241</td>\n",
       "      <td>1.484491</td>\n",
       "      <td>1.474793</td>\n",
       "      <td>1.464199</td>\n",
       "      <td>1.483277</td>\n",
       "      <td>1.539929</td>\n",
       "      <td>1.546255</td>\n",
       "      <td>1.396832</td>\n",
       "      <td>1.144221</td>\n",
       "      <td>1.0000</td>\n",
       "    </tr>\n",
       "    <tr>\n",
       "      <th>3</th>\n",
       "      <td>0.8858</td>\n",
       "      <td>0.905882</td>\n",
       "      <td>0.861419</td>\n",
       "      <td>0.850516</td>\n",
       "      <td>0.886861</td>\n",
       "      <td>0.880098</td>\n",
       "      <td>0.863066</td>\n",
       "      <td>0.879971</td>\n",
       "      <td>0.890077</td>\n",
       "      <td>0.882779</td>\n",
       "      <td>...</td>\n",
       "      <td>1.210015</td>\n",
       "      <td>1.065867</td>\n",
       "      <td>0.958425</td>\n",
       "      <td>0.941561</td>\n",
       "      <td>0.999554</td>\n",
       "      <td>1.108919</td>\n",
       "      <td>1.227369</td>\n",
       "      <td>1.308741</td>\n",
       "      <td>1.327765</td>\n",
       "      <td>1.2802</td>\n",
       "    </tr>\n",
       "    <tr>\n",
       "      <th>4</th>\n",
       "      <td>0.8547</td>\n",
       "      <td>0.852304</td>\n",
       "      <td>0.850983</td>\n",
       "      <td>0.857229</td>\n",
       "      <td>0.858517</td>\n",
       "      <td>0.859017</td>\n",
       "      <td>0.865424</td>\n",
       "      <td>0.871978</td>\n",
       "      <td>0.881150</td>\n",
       "      <td>0.889311</td>\n",
       "      <td>...</td>\n",
       "      <td>1.361696</td>\n",
       "      <td>1.359801</td>\n",
       "      <td>1.347493</td>\n",
       "      <td>1.334237</td>\n",
       "      <td>1.344745</td>\n",
       "      <td>1.385816</td>\n",
       "      <td>1.388723</td>\n",
       "      <td>1.271191</td>\n",
       "      <td>1.081631</td>\n",
       "      <td>1.0000</td>\n",
       "    </tr>\n",
       "    <tr>\n",
       "      <th>5</th>\n",
       "      <td>0.8616</td>\n",
       "      <td>0.841106</td>\n",
       "      <td>0.820034</td>\n",
       "      <td>0.821962</td>\n",
       "      <td>0.841713</td>\n",
       "      <td>0.860522</td>\n",
       "      <td>0.852965</td>\n",
       "      <td>0.856377</td>\n",
       "      <td>0.872028</td>\n",
       "      <td>0.878499</td>\n",
       "      <td>...</td>\n",
       "      <td>1.145478</td>\n",
       "      <td>1.414929</td>\n",
       "      <td>1.581885</td>\n",
       "      <td>1.582837</td>\n",
       "      <td>1.520387</td>\n",
       "      <td>1.485876</td>\n",
       "      <td>1.494581</td>\n",
       "      <td>1.540749</td>\n",
       "      <td>1.578547</td>\n",
       "      <td>1.5218</td>\n",
       "    </tr>\n",
       "  </tbody>\n",
       "</table>\n",
       "<p>5 rows × 1000 columns</p>\n",
       "</div>"
      ],
      "text/plain": [
       "     0.45  0.452002002002002  0.45400400400400404  0.456006006006006  \\\n",
       "1  0.9147           0.923830             0.923655           0.927794   \n",
       "2  0.9084           0.924730             0.930489           0.925401   \n",
       "3  0.8858           0.905882             0.861419           0.850516   \n",
       "4  0.8547           0.852304             0.850983           0.857229   \n",
       "5  0.8616           0.841106             0.820034           0.821962   \n",
       "\n",
       "   0.458008008008008  0.46001001001001  0.46201201201201203  \\\n",
       "1           0.937310          0.938574             0.930813   \n",
       "2           0.908388          0.894143             0.921720   \n",
       "3           0.886861          0.880098             0.863066   \n",
       "4           0.858517          0.859017             0.865424   \n",
       "5           0.841713          0.860522             0.852965   \n",
       "\n",
       "   0.46401401401401404  0.46601601601601605  0.468018018018018  ...  \\\n",
       "1             0.933986             0.936350           0.927616  ...   \n",
       "2             0.932843             0.926268           0.923234  ...   \n",
       "3             0.879971             0.890077           0.882779  ...   \n",
       "4             0.871978             0.881150           0.889311  ...   \n",
       "5             0.856377             0.872028           0.878499  ...   \n",
       "\n",
       "   2.431981981981982  2.433983983983984  2.4359859859859863  \\\n",
       "1           1.304552           1.303959            1.303771   \n",
       "2           1.483241           1.484491            1.474793   \n",
       "3           1.210015           1.065867            0.958425   \n",
       "4           1.361696           1.359801            1.347493   \n",
       "5           1.145478           1.414929            1.581885   \n",
       "\n",
       "   2.437987987987988  2.43998998998999  2.441991991991992  2.443993993993994  \\\n",
       "1           1.304766          1.306391           1.307985           1.308680   \n",
       "2           1.464199          1.483277           1.539929           1.546255   \n",
       "3           0.941561          0.999554           1.108919           1.227369   \n",
       "4           1.334237          1.344745           1.385816           1.388723   \n",
       "5           1.582837          1.520387           1.485876           1.494581   \n",
       "\n",
       "   2.4459959959959963  2.447997997997998    2.45  \n",
       "1            1.307761           1.309303  1.3222  \n",
       "2            1.396832           1.144221  1.0000  \n",
       "3            1.308741           1.327765  1.2802  \n",
       "4            1.271191           1.081631  1.0000  \n",
       "5            1.540749           1.578547  1.5218  \n",
       "\n",
       "[5 rows x 1000 columns]"
      ]
     },
     "execution_count": 7,
     "metadata": {},
     "output_type": "execute_result"
    }
   ],
   "source": [
    "X_data = df[df.columns[2:]]\n",
    "y_data = df.spect_b # label\n",
    "y_data_code = y_data.astype(\"category\").cat.codes # label numérica\n",
    "\n",
    "X_data.head()"
   ]
  },
  {
   "cell_type": "markdown",
   "metadata": {},
   "source": [
    "La longitud de onda máxima a la cual se considera rango visible es a los $0.730 \\mu m$."
   ]
  },
  {
   "cell_type": "code",
   "execution_count": 8,
   "metadata": {},
   "outputs": [
    {
     "name": "stdout",
     "output_type": "stream",
     "text": [
      "0.7342842842842843\n",
      "Shape dataframe espectro visible (100, 142)\n"
     ]
    }
   ],
   "source": [
    "print(X_data.columns[142])\n",
    "X_visible = X_data[X_data.columns[:142]]\n",
    "print('Shape dataframe espectro visible',X_visible.shape)"
   ]
  },
  {
   "cell_type": "code",
   "execution_count": 9,
   "metadata": {},
   "outputs": [
    {
     "name": "stdout",
     "output_type": "stream",
     "text": [
      "Shape dataframe espectro infrarrojo cercano (100, 858)\n"
     ]
    }
   ],
   "source": [
    "X_nir = X_data[X_data.columns[142:]]\n",
    "print('Shape dataframe espectro infrarrojo cercano',X_nir.shape)"
   ]
  },
  {
   "cell_type": "markdown",
   "metadata": {},
   "source": [
    "## Resultados con el dataframe del espectro **Visible**"
   ]
  },
  {
   "cell_type": "code",
   "execution_count": 10,
   "metadata": {},
   "outputs": [
    {
     "data": {
      "text/plain": [
       "((70, 142), (30, 142), (70,), (30,))"
      ]
     },
     "execution_count": 10,
     "metadata": {},
     "output_type": "execute_result"
    }
   ],
   "source": [
    "X_train_vis, X_test_vis, y_train_vis, y_test_vis = train_test_split(X_visible, y_data_code, test_size=0.3, random_state=1)\n",
    "X_train_vis.shape, X_test_vis.shape, y_train_vis.shape, y_test_vis.shape"
   ]
  },
  {
   "cell_type": "markdown",
   "metadata": {},
   "source": [
    "#### Entrenamiento y GridSearch: Búsqueda de mejores hiperparámetros"
   ]
  },
  {
   "cell_type": "code",
   "execution_count": 11,
   "metadata": {},
   "outputs": [],
   "source": [
    "def graph_neighbors(X_train, y_train, X_test, y_test):\n",
    "    \n",
    "    training_accuracy = []\n",
    "    test_accuracy = []\n",
    "\n",
    "    # try n_neighbors from 1 to 10\n",
    "    neighbors_settings = range(1, 20)\n",
    "\n",
    "    for n_neighbors in neighbors_settings:\n",
    "        clf = KNeighborsClassifier(n_neighbors=n_neighbors)\n",
    "        clf.fit(X_train, y_train)\n",
    "        # record training set accuracy\n",
    "        training_accuracy.append(clf.score(X_train, y_train))\n",
    "        # record generalization accuracy\n",
    "        test_accuracy.append(clf.score(X_test, y_test))\n",
    "\n",
    "\n",
    "    plt.plot(neighbors_settings, training_accuracy, label=\"training accuracy\")\n",
    "    plt.plot(neighbors_settings, test_accuracy, label=\"test accuracy\")\n",
    "    plt.ylabel(\"Accuracy\")\n",
    "    plt.xlabel(\"n_neighbors\")\n",
    "    plt.legend()"
   ]
  },
  {
   "cell_type": "code",
   "execution_count": 12,
   "metadata": {},
   "outputs": [
    {
     "data": {
      "image/png": "[encoded data removed]",
      "text/plain": [
       "<Figure size 432x288 with 1 Axes>"
      ]
     },
     "metadata": {
      "needs_background": "light"
     },
     "output_type": "display_data"
    }
   ],
   "source": [
    "graph_neighbors(X_train_vis, y_train_vis, X_test_vis, y_test_vis)"
   ]
  },
  {
   "cell_type": "code",
   "execution_count": 13,
   "metadata": {},
   "outputs": [],
   "source": [
    "def model(X_train, y_train):\n",
    "    \n",
    "    knn = KNeighborsClassifier()  \n",
    "    \n",
    "    param_grid = dict(n_neighbors=list(range(1, 20)), \n",
    "                      weights=['uniform', 'distance'],\n",
    "                      algorithm=['auto', 'ball_tree', 'kd_tree', 'brute'])\n",
    "\n",
    "    grid = GridSearchCV(knn, param_grid, cv=5)\n",
    "    grid.fit(X_train, y_train)\n",
    "    \n",
    "    best_param = grid.best_params_\n",
    "    \n",
    "    print('Mejores hiperparámetros',grid.best_params_)\n",
    "    print('Mejor score',grid.best_score_)\n",
    "    \n",
    "    return best_param"
   ]
  },
  {
   "cell_type": "code",
   "execution_count": 14,
   "metadata": {},
   "outputs": [
    {
     "name": "stdout",
     "output_type": "stream",
     "text": [
      "Mejores hiperparámetros {'algorithm': 'auto', 'n_neighbors': 5, 'weights': 'distance'}\n",
      "Mejor score 0.8714285714285716\n"
     ]
    }
   ],
   "source": [
    "best_param_vis = model(X_train_vis, y_train_vis)"
   ]
  },
  {
   "cell_type": "markdown",
   "metadata": {},
   "source": [
    "### Modelo final con espectro visible"
   ]
  },
  {
   "cell_type": "code",
   "execution_count": 15,
   "metadata": {},
   "outputs": [],
   "source": [
    "def train_test_model(X_train, y_train, X_test, y_test, y_data, best_param):\n",
    "    \n",
    "    clf = KNeighborsClassifier(**best_param)\n",
    "    clf.fit(X_train, y_train)\n",
    "\n",
    "    p = clf.predict(X_test)\n",
    "    \n",
    "    #Importe el módulo de métricas de sklearn para medir el desempeño (accuracy_score) de su modelo.\n",
    "    print(\"Train set Accuracy: \", metrics.accuracy_score(y_train, clf.predict(X_train)))\n",
    "    print(\"Test set Accuracy: \", metrics.accuracy_score(y_test, p))\n",
    "    \n",
    "    # Matrix de confusión\n",
    "    mat = confusion_matrix(y_test, p)\n",
    "    sns.heatmap(mat.T, square=True, annot=True, fmt='d', cbar=False, cmap=\"Blues\")\n",
    "    plt.title('Matriz de confusión')\n",
    "    plt.xlabel('true label')\n",
    "    plt.ylabel('predicted label')\n",
    "    print(classification_report(y_test, p))\n",
    "    \n",
    "    \n",
    "    #train model with cv of 5 \n",
    "    cv_scores = cross_val_score(clf, X_test , y_test, cv=5)\n",
    "    #print each cv score (accuracy) and average them\n",
    "    print(cv_scores)\n",
    "    print('cv_scores mean:{}'.format(np.mean(cv_scores)))\n",
    "    \n",
    "    # Show first two principal components without scaler\n",
    "    pca = PCA()\n",
    "    plt.figure(figsize=(8,6))\n",
    "    Xt = pca.fit_transform(X_test)\n",
    "    plot = plt.scatter(Xt[:,0], Xt[:,1], c=y_test)\n",
    "    plt.legend(handles=plot.legend_elements()[0], labels=list(y_data))\n",
    "    plt.xlabel(\"PC1\")\n",
    "    plt.ylabel(\"PC2\")\n",
    "    plt.title(\"First two principal components\")\n",
    "    plt.show()\n",
    "    \n",
    "    return p"
   ]
  },
  {
   "cell_type": "code",
   "execution_count": 16,
   "metadata": {},
   "outputs": [
    {
     "name": "stdout",
     "output_type": "stream",
     "text": [
      "Train set Accuracy:  1.0\n",
      "Test set Accuracy:  0.8666666666666667\n"
     ]
    },
    {
     "name": "stderr",
     "output_type": "stream",
     "text": [
      "/Users/daniandreacosmo/opt/anaconda3/lib/python3.7/site-packages/sklearn/metrics/_classification.py:1272: UndefinedMetricWarning: Recall and F-score are ill-defined and being set to 0.0 in labels with no true samples. Use `zero_division` parameter to control this behavior.\n",
      "  _warn_prf(average, modifier, msg_start, len(result))\n",
      "/Users/daniandreacosmo/opt/anaconda3/lib/python3.7/site-packages/sklearn/model_selection/_split.py:667: UserWarning: The least populated class in y has only 3 members, which is less than n_splits=5.\n",
      "  % (min_groups, self.n_splits)), UserWarning)\n"
     ]
    },
    {
     "name": "stdout",
     "output_type": "stream",
     "text": [
      "              precision    recall  f1-score   support\n",
      "\n",
      "           0       1.00      1.00      1.00         3\n",
      "           1       0.00      0.00      0.00         0\n",
      "           2       1.00      1.00      1.00         5\n",
      "           3       0.88      0.93      0.90        15\n",
      "           4       0.50      0.33      0.40         3\n",
      "           5       1.00      0.75      0.86         4\n",
      "\n",
      "    accuracy                           0.87        30\n",
      "   macro avg       0.73      0.67      0.69        30\n",
      "weighted avg       0.89      0.87      0.87        30\n",
      "\n",
      "[1.         1.         0.83333333 0.66666667 0.83333333]\n",
      "cv_scores mean:0.8666666666666666\n"
     ]
    },
    {
     "data": {
      "image/png": "[encoded data removed]",
      "text/plain": [
       "<Figure size 432x288 with 1 Axes>"
      ]
     },
     "metadata": {
      "needs_background": "light"
     },
     "output_type": "display_data"
    },
    {
     "data": {
      "image/png": "[encoded data removed]",
      "text/plain": [
       "<Figure size 576x432 with 1 Axes>"
      ]
     },
     "metadata": {
      "needs_background": "light"
     },
     "output_type": "display_data"
    }
   ],
   "source": [
    "pred_vis = train_test_model(X_train_vis, \n",
    "                            y_train_vis, \n",
    "                            X_test_vis, \n",
    "                            y_test_vis, \n",
    "                            y_data, \n",
    "                            best_param_vis)"
   ]
  },
  {
   "cell_type": "code",
   "execution_count": 17,
   "metadata": {
    "scrolled": false
   },
   "outputs": [
    {
     "data": {
      "text/html": [
       "<div>\n",
       "<style scoped>\n",
       "    .dataframe tbody tr th:only-of-type {\n",
       "        vertical-align: middle;\n",
       "    }\n",
       "\n",
       "    .dataframe tbody tr th {\n",
       "        vertical-align: top;\n",
       "    }\n",
       "\n",
       "    .dataframe thead th {\n",
       "        text-align: right;\n",
       "    }\n",
       "</style>\n",
       "<table border=\"1\" class=\"dataframe\">\n",
       "  <thead>\n",
       "    <tr style=\"text-align: right;\">\n",
       "      <th></th>\n",
       "      <th>y_test</th>\n",
       "      <th>p</th>\n",
       "    </tr>\n",
       "  </thead>\n",
       "  <tbody>\n",
       "    <tr>\n",
       "      <th>0</th>\n",
       "      <td>3</td>\n",
       "      <td>3</td>\n",
       "    </tr>\n",
       "    <tr>\n",
       "      <th>1</th>\n",
       "      <td>3</td>\n",
       "      <td>3</td>\n",
       "    </tr>\n",
       "    <tr>\n",
       "      <th>2</th>\n",
       "      <td>3</td>\n",
       "      <td>3</td>\n",
       "    </tr>\n",
       "    <tr>\n",
       "      <th>3</th>\n",
       "      <td>0</td>\n",
       "      <td>0</td>\n",
       "    </tr>\n",
       "    <tr>\n",
       "      <th>4</th>\n",
       "      <td>3</td>\n",
       "      <td>3</td>\n",
       "    </tr>\n",
       "    <tr>\n",
       "      <th>5</th>\n",
       "      <td>3</td>\n",
       "      <td>3</td>\n",
       "    </tr>\n",
       "    <tr>\n",
       "      <th>6</th>\n",
       "      <td>3</td>\n",
       "      <td>3</td>\n",
       "    </tr>\n",
       "    <tr>\n",
       "      <th>7</th>\n",
       "      <td>3</td>\n",
       "      <td>3</td>\n",
       "    </tr>\n",
       "    <tr>\n",
       "      <th>8</th>\n",
       "      <td>3</td>\n",
       "      <td>3</td>\n",
       "    </tr>\n",
       "    <tr>\n",
       "      <th>9</th>\n",
       "      <td>2</td>\n",
       "      <td>2</td>\n",
       "    </tr>\n",
       "    <tr>\n",
       "      <th>10</th>\n",
       "      <td>3</td>\n",
       "      <td>3</td>\n",
       "    </tr>\n",
       "    <tr>\n",
       "      <th>11</th>\n",
       "      <td>3</td>\n",
       "      <td>3</td>\n",
       "    </tr>\n",
       "    <tr>\n",
       "      <th>12</th>\n",
       "      <td>2</td>\n",
       "      <td>2</td>\n",
       "    </tr>\n",
       "    <tr>\n",
       "      <th>13</th>\n",
       "      <td>2</td>\n",
       "      <td>2</td>\n",
       "    </tr>\n",
       "    <tr>\n",
       "      <th>14</th>\n",
       "      <td>5</td>\n",
       "      <td>5</td>\n",
       "    </tr>\n",
       "    <tr>\n",
       "      <th>15</th>\n",
       "      <td>0</td>\n",
       "      <td>0</td>\n",
       "    </tr>\n",
       "    <tr>\n",
       "      <th>16</th>\n",
       "      <td>2</td>\n",
       "      <td>2</td>\n",
       "    </tr>\n",
       "    <tr>\n",
       "      <th>17</th>\n",
       "      <td>4</td>\n",
       "      <td>3</td>\n",
       "    </tr>\n",
       "    <tr>\n",
       "      <th>18</th>\n",
       "      <td>5</td>\n",
       "      <td>5</td>\n",
       "    </tr>\n",
       "    <tr>\n",
       "      <th>19</th>\n",
       "      <td>2</td>\n",
       "      <td>2</td>\n",
       "    </tr>\n",
       "    <tr>\n",
       "      <th>20</th>\n",
       "      <td>3</td>\n",
       "      <td>3</td>\n",
       "    </tr>\n",
       "    <tr>\n",
       "      <th>21</th>\n",
       "      <td>0</td>\n",
       "      <td>0</td>\n",
       "    </tr>\n",
       "    <tr>\n",
       "      <th>22</th>\n",
       "      <td>3</td>\n",
       "      <td>3</td>\n",
       "    </tr>\n",
       "    <tr>\n",
       "      <th>23</th>\n",
       "      <td>4</td>\n",
       "      <td>3</td>\n",
       "    </tr>\n",
       "    <tr>\n",
       "      <th>24</th>\n",
       "      <td>3</td>\n",
       "      <td>4</td>\n",
       "    </tr>\n",
       "    <tr>\n",
       "      <th>25</th>\n",
       "      <td>4</td>\n",
       "      <td>4</td>\n",
       "    </tr>\n",
       "    <tr>\n",
       "      <th>26</th>\n",
       "      <td>3</td>\n",
       "      <td>3</td>\n",
       "    </tr>\n",
       "    <tr>\n",
       "      <th>27</th>\n",
       "      <td>5</td>\n",
       "      <td>5</td>\n",
       "    </tr>\n",
       "    <tr>\n",
       "      <th>28</th>\n",
       "      <td>3</td>\n",
       "      <td>3</td>\n",
       "    </tr>\n",
       "    <tr>\n",
       "      <th>29</th>\n",
       "      <td>5</td>\n",
       "      <td>1</td>\n",
       "    </tr>\n",
       "  </tbody>\n",
       "</table>\n",
       "</div>"
      ],
      "text/plain": [
       "    y_test  p\n",
       "0        3  3\n",
       "1        3  3\n",
       "2        3  3\n",
       "3        0  0\n",
       "4        3  3\n",
       "5        3  3\n",
       "6        3  3\n",
       "7        3  3\n",
       "8        3  3\n",
       "9        2  2\n",
       "10       3  3\n",
       "11       3  3\n",
       "12       2  2\n",
       "13       2  2\n",
       "14       5  5\n",
       "15       0  0\n",
       "16       2  2\n",
       "17       4  3\n",
       "18       5  5\n",
       "19       2  2\n",
       "20       3  3\n",
       "21       0  0\n",
       "22       3  3\n",
       "23       4  3\n",
       "24       3  4\n",
       "25       4  4\n",
       "26       3  3\n",
       "27       5  5\n",
       "28       3  3\n",
       "29       5  1"
      ]
     },
     "execution_count": 17,
     "metadata": {},
     "output_type": "execute_result"
    }
   ],
   "source": [
    "compa = pd.DataFrame({'y_test': y_test_vis.values, 'p': pred_vis})\n",
    "compa"
   ]
  },
  {
   "cell_type": "markdown",
   "metadata": {},
   "source": [
    "## Resultados con el dataframe del espectro **Infrarrojo Cercano**"
   ]
  },
  {
   "cell_type": "code",
   "execution_count": 18,
   "metadata": {},
   "outputs": [
    {
     "data": {
      "text/plain": [
       "((70, 858), (30, 858), (70,), (30,))"
      ]
     },
     "execution_count": 18,
     "metadata": {},
     "output_type": "execute_result"
    }
   ],
   "source": [
    "X_train_nir, X_test_nir, y_train_nir, y_test_nir = train_test_split(X_nir, y_data_code, test_size=0.3, random_state=1)\n",
    "X_train_nir.shape, X_test_nir.shape, y_train_nir.shape, y_test_nir.shape"
   ]
  },
  {
   "cell_type": "code",
   "execution_count": 19,
   "metadata": {},
   "outputs": [
    {
     "data": {
      "image/png": "[encoded data removed]",
      "text/plain": [
       "<Figure size 432x288 with 1 Axes>"
      ]
     },
     "metadata": {
      "needs_background": "light"
     },
     "output_type": "display_data"
    }
   ],
   "source": [
    "graph_neighbors(X_train_nir, y_train_nir, X_test_nir, y_test_nir)"
   ]
  },
  {
   "cell_type": "code",
   "execution_count": 20,
   "metadata": {},
   "outputs": [
    {
     "name": "stdout",
     "output_type": "stream",
     "text": [
      "Mejores hiperparámetros {'algorithm': 'auto', 'n_neighbors': 3, 'weights': 'distance'}\n",
      "Mejor score 0.7714285714285715\n"
     ]
    }
   ],
   "source": [
    "best_param_nir = model(X_train_nir, y_train_nir)"
   ]
  },
  {
   "cell_type": "code",
   "execution_count": 21,
   "metadata": {
    "scrolled": false
   },
   "outputs": [
    {
     "name": "stdout",
     "output_type": "stream",
     "text": [
      "Train set Accuracy:  1.0\n",
      "Test set Accuracy:  0.7333333333333333\n",
      "              precision    recall  f1-score   support\n",
      "\n",
      "           0       0.50      0.33      0.40         3\n",
      "           1       0.00      0.00      0.00         0\n",
      "           2       0.57      0.80      0.67         5\n",
      "           3       0.87      0.87      0.87        15\n",
      "           4       0.50      0.33      0.40         3\n",
      "           5       1.00      0.75      0.86         4\n",
      "\n",
      "    accuracy                           0.73        30\n",
      "   macro avg       0.57      0.51      0.53        30\n",
      "weighted avg       0.76      0.73      0.74        30\n",
      "\n",
      "[0.83333333 0.5        0.66666667 0.66666667 0.83333333]\n",
      "cv_scores mean:0.7\n"
     ]
    },
    {
     "name": "stderr",
     "output_type": "stream",
     "text": [
      "/Users/daniandreacosmo/opt/anaconda3/lib/python3.7/site-packages/sklearn/metrics/_classification.py:1272: UndefinedMetricWarning: Recall and F-score are ill-defined and being set to 0.0 in labels with no true samples. Use `zero_division` parameter to control this behavior.\n",
      "  _warn_prf(average, modifier, msg_start, len(result))\n",
      "/Users/daniandreacosmo/opt/anaconda3/lib/python3.7/site-packages/sklearn/model_selection/_split.py:667: UserWarning: The least populated class in y has only 3 members, which is less than n_splits=5.\n",
      "  % (min_groups, self.n_splits)), UserWarning)\n"
     ]
    },
    {
     "data": {
      "image/png": "[encoded data removed]",
      "text/plain": [
       "<Figure size 432x288 with 1 Axes>"
      ]
     },
     "metadata": {
      "needs_background": "light"
     },
     "output_type": "display_data"
    },
    {
     "data": {
      "image/png": "[encoded data removed]",
      "text/plain": [
       "<Figure size 576x432 with 1 Axes>"
      ]
     },
     "metadata": {
      "needs_background": "light"
     },
     "output_type": "display_data"
    }
   ],
   "source": [
    "pred_nir = train_test_model(X_train_nir, \n",
    "                            y_train_nir, \n",
    "                            X_test_nir, \n",
    "                            y_test_nir, \n",
    "                            y_data, \n",
    "                            best_param_nir)"
   ]
  },
  {
   "cell_type": "code",
   "execution_count": null,
   "metadata": {},
   "outputs": [],
   "source": []
  },
  {
   "cell_type": "code",
   "execution_count": null,
   "metadata": {},
   "outputs": [],
   "source": []
  },
  {
   "cell_type": "code",
   "execution_count": null,
   "metadata": {},
   "outputs": [],
   "source": []
  }
 ],
 "metadata": {
  "kernelspec": {
   "display_name": "Python 3",
   "language": "python",
   "name": "python3"
  },
  "language_info": {
   "codemirror_mode": {
    "name": "ipython",
    "version": 3
   },
   "file_extension": ".py",
   "mimetype": "text/x-python",
   "name": "python",
   "nbconvert_exporter": "python",
   "pygments_lexer": "ipython3",
   "version": "3.7.6"
  }
 },
 "nbformat": 4,
 "nbformat_minor": 4
}
