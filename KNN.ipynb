{
 "cells": [
  {
   "cell_type": "markdown",
   "metadata": {},
   "source": [
    "# Implementación del algoritmo KNN "
   ]
  },
  {
   "cell_type": "code",
   "execution_count": 90,
   "metadata": {},
   "outputs": [],
   "source": [
    "from sklearn.neighbors import KNeighborsClassifier\n",
    "from sklearn.model_selection import train_test_split\n",
    "from sklearn.model_selection import validation_curve\n",
    "from sklearn import metrics\n",
    "from sklearn.metrics import confusion_matrix\n",
    "from sklearn.model_selection import GridSearchCV\n",
    "from sklearn.metrics import classification_report\n",
    "from sklearn.decomposition import PCA\n",
    "from sklearn.model_selection import cross_val_score\n",
    "from sklearn.preprocessing import StandardScaler\n",
    "from sklearn.model_selection import GridSearchCV\n",
    "\n",
    "\n",
    "import matplotlib.pyplot as plt\n",
    "import seaborn as sns\n",
    "import pandas as pd\n",
    "import numpy as np\n",
    "import matplotlib.pylab as pylab\n",
    "\n",
    "params = {'legend.fontsize': 'x-large',\n",
    "          'figure.figsize': (10,6),\n",
    "         'axes.labelsize': 'x-large',\n",
    "         'axes.titlesize':'x-large',\n",
    "         'xtick.labelsize':'x-large',\n",
    "         'ytick.labelsize':'x-large'}\n",
    "pylab.rcParams.update(params)"
   ]
  },
  {
   "cell_type": "code",
   "execution_count": 151,
   "metadata": {},
   "outputs": [
    {
     "data": {
      "text/html": [
       "<div>\n",
       "<style scoped>\n",
       "    .dataframe tbody tr th:only-of-type {\n",
       "        vertical-align: middle;\n",
       "    }\n",
       "\n",
       "    .dataframe tbody tr th {\n",
       "        vertical-align: top;\n",
       "    }\n",
       "\n",
       "    .dataframe thead th {\n",
       "        text-align: right;\n",
       "    }\n",
       "</style>\n",
       "<table border=\"1\" class=\"dataframe\">\n",
       "  <thead>\n",
       "    <tr style=\"text-align: right;\">\n",
       "      <th></th>\n",
       "      <th>name</th>\n",
       "      <th>spect_b</th>\n",
       "      <th>0.45</th>\n",
       "      <th>0.452002002002002</th>\n",
       "      <th>0.45400400400400404</th>\n",
       "      <th>0.456006006006006</th>\n",
       "      <th>0.458008008008008</th>\n",
       "      <th>0.46001001001001</th>\n",
       "      <th>0.46201201201201203</th>\n",
       "      <th>0.46401401401401404</th>\n",
       "      <th>...</th>\n",
       "      <th>2.431981981981982</th>\n",
       "      <th>2.433983983983984</th>\n",
       "      <th>2.4359859859859863</th>\n",
       "      <th>2.437987987987988</th>\n",
       "      <th>2.43998998998999</th>\n",
       "      <th>2.441991991991992</th>\n",
       "      <th>2.443993993993994</th>\n",
       "      <th>2.4459959959959963</th>\n",
       "      <th>2.447997997997998</th>\n",
       "      <th>2.45</th>\n",
       "    </tr>\n",
       "  </thead>\n",
       "  <tbody>\n",
       "    <tr>\n",
       "      <th>0</th>\n",
       "      <td>Abehiroshi</td>\n",
       "      <td>V</td>\n",
       "      <td>0.9765</td>\n",
       "      <td>0.873727</td>\n",
       "      <td>0.802019</td>\n",
       "      <td>0.908693</td>\n",
       "      <td>0.992507</td>\n",
       "      <td>0.892887</td>\n",
       "      <td>0.806158</td>\n",
       "      <td>0.822114</td>\n",
       "      <td>...</td>\n",
       "      <td>1.453882</td>\n",
       "      <td>1.428696</td>\n",
       "      <td>1.286868</td>\n",
       "      <td>1.095002</td>\n",
       "      <td>0.999979</td>\n",
       "      <td>1.100082</td>\n",
       "      <td>1.281601</td>\n",
       "      <td>1.382604</td>\n",
       "      <td>1.370983</td>\n",
       "      <td>1.3453</td>\n",
       "    </tr>\n",
       "    <tr>\n",
       "      <th>1</th>\n",
       "      <td>Senrikyu</td>\n",
       "      <td>B</td>\n",
       "      <td>1.1423</td>\n",
       "      <td>1.104633</td>\n",
       "      <td>1.062175</td>\n",
       "      <td>0.996224</td>\n",
       "      <td>0.949799</td>\n",
       "      <td>1.010879</td>\n",
       "      <td>1.060699</td>\n",
       "      <td>1.024171</td>\n",
       "      <td>...</td>\n",
       "      <td>0.991043</td>\n",
       "      <td>0.997508</td>\n",
       "      <td>1.001280</td>\n",
       "      <td>1.001278</td>\n",
       "      <td>1.000005</td>\n",
       "      <td>0.999570</td>\n",
       "      <td>0.999831</td>\n",
       "      <td>1.000092</td>\n",
       "      <td>1.000091</td>\n",
       "      <td>1.0000</td>\n",
       "    </tr>\n",
       "    <tr>\n",
       "      <th>2</th>\n",
       "      <td>Robinson</td>\n",
       "      <td>Sr</td>\n",
       "      <td>0.8445</td>\n",
       "      <td>0.770504</td>\n",
       "      <td>0.786651</td>\n",
       "      <td>0.801385</td>\n",
       "      <td>0.780085</td>\n",
       "      <td>0.812111</td>\n",
       "      <td>0.815159</td>\n",
       "      <td>0.828218</td>\n",
       "      <td>...</td>\n",
       "      <td>1.696828</td>\n",
       "      <td>1.687543</td>\n",
       "      <td>1.699685</td>\n",
       "      <td>1.727674</td>\n",
       "      <td>1.741618</td>\n",
       "      <td>1.724284</td>\n",
       "      <td>1.714307</td>\n",
       "      <td>1.760465</td>\n",
       "      <td>1.817740</td>\n",
       "      <td>1.7467</td>\n",
       "    </tr>\n",
       "    <tr>\n",
       "      <th>3</th>\n",
       "      <td>Paris</td>\n",
       "      <td>T</td>\n",
       "      <td>0.9238</td>\n",
       "      <td>0.935045</td>\n",
       "      <td>0.928104</td>\n",
       "      <td>0.933731</td>\n",
       "      <td>0.943692</td>\n",
       "      <td>0.937315</td>\n",
       "      <td>0.953128</td>\n",
       "      <td>0.967190</td>\n",
       "      <td>...</td>\n",
       "      <td>2.056997</td>\n",
       "      <td>1.990262</td>\n",
       "      <td>1.979909</td>\n",
       "      <td>2.040457</td>\n",
       "      <td>1.958246</td>\n",
       "      <td>1.594457</td>\n",
       "      <td>1.155880</td>\n",
       "      <td>0.926450</td>\n",
       "      <td>0.944271</td>\n",
       "      <td>1.0000</td>\n",
       "    </tr>\n",
       "    <tr>\n",
       "      <th>4</th>\n",
       "      <td>Farinella</td>\n",
       "      <td>D</td>\n",
       "      <td>0.8795</td>\n",
       "      <td>0.953828</td>\n",
       "      <td>0.956625</td>\n",
       "      <td>0.849646</td>\n",
       "      <td>0.784283</td>\n",
       "      <td>0.867913</td>\n",
       "      <td>0.938608</td>\n",
       "      <td>0.909334</td>\n",
       "      <td>...</td>\n",
       "      <td>1.482280</td>\n",
       "      <td>1.065135</td>\n",
       "      <td>1.077220</td>\n",
       "      <td>1.503595</td>\n",
       "      <td>1.945946</td>\n",
       "      <td>2.089067</td>\n",
       "      <td>2.025298</td>\n",
       "      <td>1.945494</td>\n",
       "      <td>1.926199</td>\n",
       "      <td>1.9289</td>\n",
       "    </tr>\n",
       "  </tbody>\n",
       "</table>\n",
       "<p>5 rows × 1002 columns</p>\n",
       "</div>"
      ],
      "text/plain": [
       "         name spect_b    0.45  0.452002002002002  0.45400400400400404  \\\n",
       "0  Abehiroshi       V  0.9765           0.873727             0.802019   \n",
       "1    Senrikyu       B  1.1423           1.104633             1.062175   \n",
       "2    Robinson      Sr  0.8445           0.770504             0.786651   \n",
       "3       Paris       T  0.9238           0.935045             0.928104   \n",
       "4   Farinella       D  0.8795           0.953828             0.956625   \n",
       "\n",
       "   0.456006006006006  0.458008008008008  0.46001001001001  \\\n",
       "0           0.908693           0.992507          0.892887   \n",
       "1           0.996224           0.949799          1.010879   \n",
       "2           0.801385           0.780085          0.812111   \n",
       "3           0.933731           0.943692          0.937315   \n",
       "4           0.849646           0.784283          0.867913   \n",
       "\n",
       "   0.46201201201201203  0.46401401401401404  ...  2.431981981981982  \\\n",
       "0             0.806158             0.822114  ...           1.453882   \n",
       "1             1.060699             1.024171  ...           0.991043   \n",
       "2             0.815159             0.828218  ...           1.696828   \n",
       "3             0.953128             0.967190  ...           2.056997   \n",
       "4             0.938608             0.909334  ...           1.482280   \n",
       "\n",
       "   2.433983983983984  2.4359859859859863  2.437987987987988  2.43998998998999  \\\n",
       "0           1.428696            1.286868           1.095002          0.999979   \n",
       "1           0.997508            1.001280           1.001278          1.000005   \n",
       "2           1.687543            1.699685           1.727674          1.741618   \n",
       "3           1.990262            1.979909           2.040457          1.958246   \n",
       "4           1.065135            1.077220           1.503595          1.945946   \n",
       "\n",
       "   2.441991991991992  2.443993993993994  2.4459959959959963  \\\n",
       "0           1.100082           1.281601            1.382604   \n",
       "1           0.999570           0.999831            1.000092   \n",
       "2           1.724284           1.714307            1.760465   \n",
       "3           1.594457           1.155880            0.926450   \n",
       "4           2.089067           2.025298            1.945494   \n",
       "\n",
       "   2.447997997997998    2.45  \n",
       "0           1.370983  1.3453  \n",
       "1           1.000091  1.0000  \n",
       "2           1.817740  1.7467  \n",
       "3           0.944271  1.0000  \n",
       "4           1.926199  1.9289  \n",
       "\n",
       "[5 rows x 1002 columns]"
      ]
     },
     "execution_count": 151,
     "metadata": {},
     "output_type": "execute_result"
    }
   ],
   "source": [
    "df = pd.read_csv('data_final.txt', sep='\\t')\n",
    "df.head()"
   ]
  },
  {
   "cell_type": "code",
   "execution_count": 282,
   "metadata": {},
   "outputs": [
    {
     "data": {
      "text/html": [
       "<div>\n",
       "<style scoped>\n",
       "    .dataframe tbody tr th:only-of-type {\n",
       "        vertical-align: middle;\n",
       "    }\n",
       "\n",
       "    .dataframe tbody tr th {\n",
       "        vertical-align: top;\n",
       "    }\n",
       "\n",
       "    .dataframe thead th {\n",
       "        text-align: right;\n",
       "    }\n",
       "</style>\n",
       "<table border=\"1\" class=\"dataframe\">\n",
       "  <thead>\n",
       "    <tr style=\"text-align: right;\">\n",
       "      <th></th>\n",
       "      <th>name</th>\n",
       "      <th>spect_b</th>\n",
       "      <th>0.45</th>\n",
       "      <th>0.452002002002002</th>\n",
       "      <th>0.45400400400400404</th>\n",
       "      <th>0.456006006006006</th>\n",
       "      <th>0.458008008008008</th>\n",
       "      <th>0.46001001001001</th>\n",
       "      <th>0.46201201201201203</th>\n",
       "      <th>0.46401401401401404</th>\n",
       "      <th>...</th>\n",
       "      <th>2.431981981981982</th>\n",
       "      <th>2.433983983983984</th>\n",
       "      <th>2.4359859859859863</th>\n",
       "      <th>2.437987987987988</th>\n",
       "      <th>2.43998998998999</th>\n",
       "      <th>2.441991991991992</th>\n",
       "      <th>2.443993993993994</th>\n",
       "      <th>2.4459959959959963</th>\n",
       "      <th>2.447997997997998</th>\n",
       "      <th>2.45</th>\n",
       "    </tr>\n",
       "  </thead>\n",
       "  <tbody>\n",
       "    <tr>\n",
       "      <th>0</th>\n",
       "      <td>Una</td>\n",
       "      <td>C</td>\n",
       "      <td>0.9554</td>\n",
       "      <td>0.952206</td>\n",
       "      <td>0.957080</td>\n",
       "      <td>0.963426</td>\n",
       "      <td>0.963682</td>\n",
       "      <td>0.958261</td>\n",
       "      <td>0.950891</td>\n",
       "      <td>0.952370</td>\n",
       "      <td>...</td>\n",
       "      <td>1.137844</td>\n",
       "      <td>1.018644</td>\n",
       "      <td>1.023530</td>\n",
       "      <td>1.148583</td>\n",
       "      <td>1.268830</td>\n",
       "      <td>1.289394</td>\n",
       "      <td>1.259743</td>\n",
       "      <td>1.262516</td>\n",
       "      <td>1.299798</td>\n",
       "      <td>1.2926</td>\n",
       "    </tr>\n",
       "    <tr>\n",
       "      <th>1</th>\n",
       "      <td>Pandora</td>\n",
       "      <td>X</td>\n",
       "      <td>0.9385</td>\n",
       "      <td>0.948918</td>\n",
       "      <td>0.951001</td>\n",
       "      <td>0.952472</td>\n",
       "      <td>0.955904</td>\n",
       "      <td>0.953284</td>\n",
       "      <td>0.950802</td>\n",
       "      <td>0.948764</td>\n",
       "      <td>...</td>\n",
       "      <td>1.507537</td>\n",
       "      <td>1.508404</td>\n",
       "      <td>1.506992</td>\n",
       "      <td>1.504487</td>\n",
       "      <td>1.504190</td>\n",
       "      <td>1.508001</td>\n",
       "      <td>1.511744</td>\n",
       "      <td>1.509981</td>\n",
       "      <td>1.503708</td>\n",
       "      <td>1.5004</td>\n",
       "    </tr>\n",
       "    <tr>\n",
       "      <th>2</th>\n",
       "      <td>Lydia</td>\n",
       "      <td>X</td>\n",
       "      <td>0.9536</td>\n",
       "      <td>0.956926</td>\n",
       "      <td>0.948856</td>\n",
       "      <td>0.940097</td>\n",
       "      <td>0.939956</td>\n",
       "      <td>0.950454</td>\n",
       "      <td>0.957656</td>\n",
       "      <td>0.955274</td>\n",
       "      <td>...</td>\n",
       "      <td>1.509242</td>\n",
       "      <td>1.509756</td>\n",
       "      <td>1.507680</td>\n",
       "      <td>1.504256</td>\n",
       "      <td>1.501806</td>\n",
       "      <td>1.502057</td>\n",
       "      <td>1.504142</td>\n",
       "      <td>1.506479</td>\n",
       "      <td>1.506271</td>\n",
       "      <td>1.4995</td>\n",
       "    </tr>\n",
       "    <tr>\n",
       "      <th>3</th>\n",
       "      <td>Hecuba</td>\n",
       "      <td>Sl</td>\n",
       "      <td>0.7934</td>\n",
       "      <td>0.787520</td>\n",
       "      <td>0.793797</td>\n",
       "      <td>0.794695</td>\n",
       "      <td>0.793040</td>\n",
       "      <td>0.812129</td>\n",
       "      <td>0.839861</td>\n",
       "      <td>0.862730</td>\n",
       "      <td>...</td>\n",
       "      <td>1.476426</td>\n",
       "      <td>1.475273</td>\n",
       "      <td>1.477298</td>\n",
       "      <td>1.482651</td>\n",
       "      <td>1.487484</td>\n",
       "      <td>1.488963</td>\n",
       "      <td>1.489107</td>\n",
       "      <td>1.490988</td>\n",
       "      <td>1.493474</td>\n",
       "      <td>1.4912</td>\n",
       "    </tr>\n",
       "    <tr>\n",
       "      <th>4</th>\n",
       "      <td>Nemesis</td>\n",
       "      <td>C</td>\n",
       "      <td>0.9451</td>\n",
       "      <td>0.931020</td>\n",
       "      <td>0.924020</td>\n",
       "      <td>0.960456</td>\n",
       "      <td>0.997359</td>\n",
       "      <td>0.968811</td>\n",
       "      <td>0.940315</td>\n",
       "      <td>0.936732</td>\n",
       "      <td>...</td>\n",
       "      <td>1.275044</td>\n",
       "      <td>1.264661</td>\n",
       "      <td>1.263843</td>\n",
       "      <td>1.273667</td>\n",
       "      <td>1.283173</td>\n",
       "      <td>1.283848</td>\n",
       "      <td>1.279323</td>\n",
       "      <td>1.276147</td>\n",
       "      <td>1.277067</td>\n",
       "      <td>1.2810</td>\n",
       "    </tr>\n",
       "  </tbody>\n",
       "</table>\n",
       "<p>5 rows × 1002 columns</p>\n",
       "</div>"
      ],
      "text/plain": [
       "      name spect_b    0.45  0.452002002002002  0.45400400400400404  \\\n",
       "0      Una       C  0.9554           0.952206             0.957080   \n",
       "1  Pandora       X  0.9385           0.948918             0.951001   \n",
       "2    Lydia       X  0.9536           0.956926             0.948856   \n",
       "3   Hecuba      Sl  0.7934           0.787520             0.793797   \n",
       "4  Nemesis       C  0.9451           0.931020             0.924020   \n",
       "\n",
       "   0.456006006006006  0.458008008008008  0.46001001001001  \\\n",
       "0           0.963426           0.963682          0.958261   \n",
       "1           0.952472           0.955904          0.953284   \n",
       "2           0.940097           0.939956          0.950454   \n",
       "3           0.794695           0.793040          0.812129   \n",
       "4           0.960456           0.997359          0.968811   \n",
       "\n",
       "   0.46201201201201203  0.46401401401401404  ...  2.431981981981982  \\\n",
       "0             0.950891             0.952370  ...           1.137844   \n",
       "1             0.950802             0.948764  ...           1.507537   \n",
       "2             0.957656             0.955274  ...           1.509242   \n",
       "3             0.839861             0.862730  ...           1.476426   \n",
       "4             0.940315             0.936732  ...           1.275044   \n",
       "\n",
       "   2.433983983983984  2.4359859859859863  2.437987987987988  2.43998998998999  \\\n",
       "0           1.018644            1.023530           1.148583          1.268830   \n",
       "1           1.508404            1.506992           1.504487          1.504190   \n",
       "2           1.509756            1.507680           1.504256          1.501806   \n",
       "3           1.475273            1.477298           1.482651          1.487484   \n",
       "4           1.264661            1.263843           1.273667          1.283173   \n",
       "\n",
       "   2.441991991991992  2.443993993993994  2.4459959959959963  \\\n",
       "0           1.289394           1.259743            1.262516   \n",
       "1           1.508001           1.511744            1.509981   \n",
       "2           1.502057           1.504142            1.506479   \n",
       "3           1.488963           1.489107            1.490988   \n",
       "4           1.283848           1.279323            1.276147   \n",
       "\n",
       "   2.447997997997998    2.45  \n",
       "0           1.299798  1.2926  \n",
       "1           1.503708  1.5004  \n",
       "2           1.506271  1.4995  \n",
       "3           1.493474  1.4912  \n",
       "4           1.277067  1.2810  \n",
       "\n",
       "[5 rows x 1002 columns]"
      ]
     },
     "execution_count": 282,
     "metadata": {},
     "output_type": "execute_result"
    }
   ],
   "source": [
    "# Mezclar el dtaset de forma aleatoria\n",
    "df = df.sample(frac=1).reset_index(drop=True)\n",
    "df.head()"
   ]
  },
  {
   "cell_type": "markdown",
   "metadata": {},
   "source": [
    "Se observa que el dataset está muy desbalanceado:"
   ]
  },
  {
   "cell_type": "code",
   "execution_count": 283,
   "metadata": {},
   "outputs": [
    {
     "data": {
      "text/plain": [
       "<AxesSubplot:xlabel='spect_b', ylabel='count'>"
      ]
     },
     "execution_count": 283,
     "metadata": {},
     "output_type": "execute_result"
    },
    {
     "data": {
      "image/png": "[encoded data removed]",
      "text/plain": [
       "<Figure size 720x432 with 1 Axes>"
      ]
     },
     "metadata": {
      "needs_background": "light"
     },
     "output_type": "display_data"
    }
   ],
   "source": [
    "sns.countplot(x='spect_b', data=df, palette='cool')"
   ]
  },
  {
   "cell_type": "markdown",
   "metadata": {},
   "source": [
    "Se eligen las 4 clases principales: **S,  h,  X,  C**  y quedan 100 asteroides:"
   ]
  },
  {
   "cell_type": "code",
   "execution_count": 284,
   "metadata": {},
   "outputs": [
    {
     "data": {
      "text/plain": [
       "(100, 1002)"
      ]
     },
     "execution_count": 284,
     "metadata": {},
     "output_type": "execute_result"
    }
   ],
   "source": [
    "df = df[(df.spect_b == 'S') | (df.spect_b == 'Ch') | (df.spect_b == 'X') | (df.spect_b == 'C') | (df.spect_b == 'Sl') | (df.spect_b == 'B') ]\n",
    "df.shape"
   ]
  },
  {
   "cell_type": "code",
   "execution_count": 285,
   "metadata": {},
   "outputs": [
    {
     "data": {
      "text/plain": [
       "<AxesSubplot:xlabel='spect_b', ylabel='count'>"
      ]
     },
     "execution_count": 285,
     "metadata": {},
     "output_type": "execute_result"
    },
    {
     "data": {
      "image/png": "[encoded data removed]",
      "text/plain": [
       "<Figure size 720x432 with 1 Axes>"
      ]
     },
     "metadata": {
      "needs_background": "light"
     },
     "output_type": "display_data"
    }
   ],
   "source": [
    "sns.countplot(x='spect_b', data=df, palette='cool')"
   ]
  },
  {
   "cell_type": "markdown",
   "metadata": {},
   "source": [
    "Se divide en características (intensidad en cada longitud de onda) y labels (tipo espectral): "
   ]
  },
  {
   "cell_type": "code",
   "execution_count": 286,
   "metadata": {},
   "outputs": [
    {
     "data": {
      "text/html": [
       "<div>\n",
       "<style scoped>\n",
       "    .dataframe tbody tr th:only-of-type {\n",
       "        vertical-align: middle;\n",
       "    }\n",
       "\n",
       "    .dataframe tbody tr th {\n",
       "        vertical-align: top;\n",
       "    }\n",
       "\n",
       "    .dataframe thead th {\n",
       "        text-align: right;\n",
       "    }\n",
       "</style>\n",
       "<table border=\"1\" class=\"dataframe\">\n",
       "  <thead>\n",
       "    <tr style=\"text-align: right;\">\n",
       "      <th></th>\n",
       "      <th>0.45</th>\n",
       "      <th>0.452002002002002</th>\n",
       "      <th>0.45400400400400404</th>\n",
       "      <th>0.456006006006006</th>\n",
       "      <th>0.458008008008008</th>\n",
       "      <th>0.46001001001001</th>\n",
       "      <th>0.46201201201201203</th>\n",
       "      <th>0.46401401401401404</th>\n",
       "      <th>0.46601601601601605</th>\n",
       "      <th>0.468018018018018</th>\n",
       "      <th>...</th>\n",
       "      <th>2.431981981981982</th>\n",
       "      <th>2.433983983983984</th>\n",
       "      <th>2.4359859859859863</th>\n",
       "      <th>2.437987987987988</th>\n",
       "      <th>2.43998998998999</th>\n",
       "      <th>2.441991991991992</th>\n",
       "      <th>2.443993993993994</th>\n",
       "      <th>2.4459959959959963</th>\n",
       "      <th>2.447997997997998</th>\n",
       "      <th>2.45</th>\n",
       "    </tr>\n",
       "  </thead>\n",
       "  <tbody>\n",
       "    <tr>\n",
       "      <th>0</th>\n",
       "      <td>0.9554</td>\n",
       "      <td>0.952206</td>\n",
       "      <td>0.957080</td>\n",
       "      <td>0.963426</td>\n",
       "      <td>0.963682</td>\n",
       "      <td>0.958261</td>\n",
       "      <td>0.950891</td>\n",
       "      <td>0.952370</td>\n",
       "      <td>0.956709</td>\n",
       "      <td>0.965352</td>\n",
       "      <td>...</td>\n",
       "      <td>1.137844</td>\n",
       "      <td>1.018644</td>\n",
       "      <td>1.023530</td>\n",
       "      <td>1.148583</td>\n",
       "      <td>1.268830</td>\n",
       "      <td>1.289394</td>\n",
       "      <td>1.259743</td>\n",
       "      <td>1.262516</td>\n",
       "      <td>1.299798</td>\n",
       "      <td>1.2926</td>\n",
       "    </tr>\n",
       "    <tr>\n",
       "      <th>1</th>\n",
       "      <td>0.9385</td>\n",
       "      <td>0.948918</td>\n",
       "      <td>0.951001</td>\n",
       "      <td>0.952472</td>\n",
       "      <td>0.955904</td>\n",
       "      <td>0.953284</td>\n",
       "      <td>0.950802</td>\n",
       "      <td>0.948764</td>\n",
       "      <td>0.947862</td>\n",
       "      <td>0.954653</td>\n",
       "      <td>...</td>\n",
       "      <td>1.507537</td>\n",
       "      <td>1.508404</td>\n",
       "      <td>1.506992</td>\n",
       "      <td>1.504487</td>\n",
       "      <td>1.504190</td>\n",
       "      <td>1.508001</td>\n",
       "      <td>1.511744</td>\n",
       "      <td>1.509981</td>\n",
       "      <td>1.503708</td>\n",
       "      <td>1.5004</td>\n",
       "    </tr>\n",
       "    <tr>\n",
       "      <th>2</th>\n",
       "      <td>0.9536</td>\n",
       "      <td>0.956926</td>\n",
       "      <td>0.948856</td>\n",
       "      <td>0.940097</td>\n",
       "      <td>0.939956</td>\n",
       "      <td>0.950454</td>\n",
       "      <td>0.957656</td>\n",
       "      <td>0.955274</td>\n",
       "      <td>0.955100</td>\n",
       "      <td>0.959329</td>\n",
       "      <td>...</td>\n",
       "      <td>1.509242</td>\n",
       "      <td>1.509756</td>\n",
       "      <td>1.507680</td>\n",
       "      <td>1.504256</td>\n",
       "      <td>1.501806</td>\n",
       "      <td>1.502057</td>\n",
       "      <td>1.504142</td>\n",
       "      <td>1.506479</td>\n",
       "      <td>1.506271</td>\n",
       "      <td>1.4995</td>\n",
       "    </tr>\n",
       "    <tr>\n",
       "      <th>3</th>\n",
       "      <td>0.7934</td>\n",
       "      <td>0.787520</td>\n",
       "      <td>0.793797</td>\n",
       "      <td>0.794695</td>\n",
       "      <td>0.793040</td>\n",
       "      <td>0.812129</td>\n",
       "      <td>0.839861</td>\n",
       "      <td>0.862730</td>\n",
       "      <td>0.866623</td>\n",
       "      <td>0.855692</td>\n",
       "      <td>...</td>\n",
       "      <td>1.476426</td>\n",
       "      <td>1.475273</td>\n",
       "      <td>1.477298</td>\n",
       "      <td>1.482651</td>\n",
       "      <td>1.487484</td>\n",
       "      <td>1.488963</td>\n",
       "      <td>1.489107</td>\n",
       "      <td>1.490988</td>\n",
       "      <td>1.493474</td>\n",
       "      <td>1.4912</td>\n",
       "    </tr>\n",
       "    <tr>\n",
       "      <th>4</th>\n",
       "      <td>0.9451</td>\n",
       "      <td>0.931020</td>\n",
       "      <td>0.924020</td>\n",
       "      <td>0.960456</td>\n",
       "      <td>0.997359</td>\n",
       "      <td>0.968811</td>\n",
       "      <td>0.940315</td>\n",
       "      <td>0.936732</td>\n",
       "      <td>0.941314</td>\n",
       "      <td>0.953809</td>\n",
       "      <td>...</td>\n",
       "      <td>1.275044</td>\n",
       "      <td>1.264661</td>\n",
       "      <td>1.263843</td>\n",
       "      <td>1.273667</td>\n",
       "      <td>1.283173</td>\n",
       "      <td>1.283848</td>\n",
       "      <td>1.279323</td>\n",
       "      <td>1.276147</td>\n",
       "      <td>1.277067</td>\n",
       "      <td>1.2810</td>\n",
       "    </tr>\n",
       "  </tbody>\n",
       "</table>\n",
       "<p>5 rows × 1000 columns</p>\n",
       "</div>"
      ],
      "text/plain": [
       "     0.45  0.452002002002002  0.45400400400400404  0.456006006006006  \\\n",
       "0  0.9554           0.952206             0.957080           0.963426   \n",
       "1  0.9385           0.948918             0.951001           0.952472   \n",
       "2  0.9536           0.956926             0.948856           0.940097   \n",
       "3  0.7934           0.787520             0.793797           0.794695   \n",
       "4  0.9451           0.931020             0.924020           0.960456   \n",
       "\n",
       "   0.458008008008008  0.46001001001001  0.46201201201201203  \\\n",
       "0           0.963682          0.958261             0.950891   \n",
       "1           0.955904          0.953284             0.950802   \n",
       "2           0.939956          0.950454             0.957656   \n",
       "3           0.793040          0.812129             0.839861   \n",
       "4           0.997359          0.968811             0.940315   \n",
       "\n",
       "   0.46401401401401404  0.46601601601601605  0.468018018018018  ...  \\\n",
       "0             0.952370             0.956709           0.965352  ...   \n",
       "1             0.948764             0.947862           0.954653  ...   \n",
       "2             0.955274             0.955100           0.959329  ...   \n",
       "3             0.862730             0.866623           0.855692  ...   \n",
       "4             0.936732             0.941314           0.953809  ...   \n",
       "\n",
       "   2.431981981981982  2.433983983983984  2.4359859859859863  \\\n",
       "0           1.137844           1.018644            1.023530   \n",
       "1           1.507537           1.508404            1.506992   \n",
       "2           1.509242           1.509756            1.507680   \n",
       "3           1.476426           1.475273            1.477298   \n",
       "4           1.275044           1.264661            1.263843   \n",
       "\n",
       "   2.437987987987988  2.43998998998999  2.441991991991992  2.443993993993994  \\\n",
       "0           1.148583          1.268830           1.289394           1.259743   \n",
       "1           1.504487          1.504190           1.508001           1.511744   \n",
       "2           1.504256          1.501806           1.502057           1.504142   \n",
       "3           1.482651          1.487484           1.488963           1.489107   \n",
       "4           1.273667          1.283173           1.283848           1.279323   \n",
       "\n",
       "   2.4459959959959963  2.447997997997998    2.45  \n",
       "0            1.262516           1.299798  1.2926  \n",
       "1            1.509981           1.503708  1.5004  \n",
       "2            1.506479           1.506271  1.4995  \n",
       "3            1.490988           1.493474  1.4912  \n",
       "4            1.276147           1.277067  1.2810  \n",
       "\n",
       "[5 rows x 1000 columns]"
      ]
     },
     "execution_count": 286,
     "metadata": {},
     "output_type": "execute_result"
    }
   ],
   "source": [
    "X_data = df[df.columns[2:]]\n",
    "y_data = df.spect_b # label\n",
    "\n",
    "X_data.head()"
   ]
  },
  {
   "cell_type": "code",
   "execution_count": 287,
   "metadata": {},
   "outputs": [
    {
     "data": {
      "text/plain": [
       "array(['C', 'X', 'Sl', 'S', 'B', 'Ch'], dtype=object)"
      ]
     },
     "execution_count": 287,
     "metadata": {},
     "output_type": "execute_result"
    }
   ],
   "source": [
    "y_data.unique()"
   ]
  },
  {
   "cell_type": "markdown",
   "metadata": {},
   "source": [
    "La longitud de onda máxima a la cual se considera rango visible es a los $0.730 \\mu m$."
   ]
  },
  {
   "cell_type": "code",
   "execution_count": 288,
   "metadata": {},
   "outputs": [
    {
     "name": "stdout",
     "output_type": "stream",
     "text": [
      "0.7342842842842843\n",
      "Shape dataframe espectro visible (100, 142)\n"
     ]
    }
   ],
   "source": [
    "print(X_data.columns[142])\n",
    "X_visible = X_data[X_data.columns[:142]]\n",
    "print('Shape dataframe espectro visible',X_visible.shape)"
   ]
  },
  {
   "cell_type": "code",
   "execution_count": 289,
   "metadata": {},
   "outputs": [
    {
     "name": "stdout",
     "output_type": "stream",
     "text": [
      "Shape dataframe espectro infrarrojo cercano (100, 858)\n"
     ]
    }
   ],
   "source": [
    "X_nir = X_data[X_data.columns[142:]]\n",
    "print('Shape dataframe espectro infrarrojo cercano',X_nir.shape)"
   ]
  },
  {
   "cell_type": "markdown",
   "metadata": {},
   "source": [
    "## Resultados con el dataframe del espectro **Visible**"
   ]
  },
  {
   "cell_type": "code",
   "execution_count": 290,
   "metadata": {},
   "outputs": [
    {
     "data": {
      "text/plain": [
       "((70, 142), (30, 142), (70,), (30,))"
      ]
     },
     "execution_count": 290,
     "metadata": {},
     "output_type": "execute_result"
    }
   ],
   "source": [
    "X_train_vis, X_test_vis, y_train_vis, y_test_vis = train_test_split(X_visible, y_data, test_size=0.3, random_state=1)\n",
    "X_train_vis.shape, X_test_vis.shape, y_train_vis.shape, y_test_vis.shape"
   ]
  },
  {
   "cell_type": "code",
   "execution_count": 291,
   "metadata": {},
   "outputs": [
    {
     "data": {
      "text/plain": [
       "array(['Ch', 'S', 'Sl', 'C', 'B', 'C', 'X', 'B', 'S', 'C', 'Ch', 'C', 'S',\n",
       "       'S', 'S', 'S', 'Ch', 'Ch', 'X', 'Sl', 'X', 'S', 'Ch', 'B', 'S',\n",
       "       'X', 'Ch', 'Sl', 'S', 'C'], dtype=object)"
      ]
     },
     "execution_count": 291,
     "metadata": {},
     "output_type": "execute_result"
    }
   ],
   "source": [
    "y_test_vis.values"
   ]
  },
  {
   "cell_type": "code",
   "execution_count": 292,
   "metadata": {},
   "outputs": [
    {
     "data": {
      "text/plain": [
       "<AxesSubplot:ylabel='count'>"
      ]
     },
     "execution_count": 292,
     "metadata": {},
     "output_type": "execute_result"
    },
    {
     "data": {
      "image/png": "[encoded data removed]",
      "text/plain": [
       "<Figure size 720x432 with 1 Axes>"
      ]
     },
     "metadata": {
      "needs_background": "light"
     },
     "output_type": "display_data"
    }
   ],
   "source": [
    "sns.countplot(x=y_test_vis.values, palette='cool')"
   ]
  },
  {
   "cell_type": "markdown",
   "metadata": {},
   "source": [
    "#### Entrenamiento y GridSearch: Búsqueda de mejores hiperparámetros"
   ]
  },
  {
   "cell_type": "code",
   "execution_count": 293,
   "metadata": {},
   "outputs": [],
   "source": [
    "def graph_neighbors(X_train, y_train, X_test, y_test):\n",
    "    \n",
    "    training_accuracy = []\n",
    "    test_accuracy = []\n",
    "\n",
    "    # try n_neighbors from 1 to 10\n",
    "    neighbors_settings = range(1, 20)\n",
    "\n",
    "    for n_neighbors in neighbors_settings:\n",
    "        clf = KNeighborsClassifier(n_neighbors=n_neighbors)\n",
    "        clf.fit(X_train, y_train)\n",
    "        # record training set accuracy\n",
    "        training_accuracy.append(clf.score(X_train, y_train))\n",
    "        # record generalization accuracy\n",
    "        test_accuracy.append(clf.score(X_test, y_test))\n",
    "\n",
    "\n",
    "    plt.plot(neighbors_settings, training_accuracy, label=\"training accuracy\")\n",
    "    plt.plot(neighbors_settings, test_accuracy, label=\"test accuracy\")\n",
    "    plt.ylabel(\"Accuracy\")\n",
    "    plt.xlabel(\"n_neighbors\")\n",
    "    plt.grid()\n",
    "    plt.legend()"
   ]
  },
  {
   "cell_type": "code",
   "execution_count": 294,
   "metadata": {},
   "outputs": [
    {
     "data": {
      "image/png": "[encoded data removed]",
      "text/plain": [
       "<Figure size 720x432 with 1 Axes>"
      ]
     },
     "metadata": {
      "needs_background": "light"
     },
     "output_type": "display_data"
    }
   ],
   "source": [
    "graph_neighbors(X_train_vis, y_train_vis, X_test_vis, y_test_vis)"
   ]
  },
  {
   "cell_type": "code",
   "execution_count": 295,
   "metadata": {},
   "outputs": [],
   "source": [
    "def model(X_train, y_train):\n",
    "    \n",
    "    knn = KNeighborsClassifier()  \n",
    "    \n",
    "    param_grid = dict(n_neighbors=list(range(1, 20)), \n",
    "                      weights=['uniform', 'distance'],\n",
    "                      algorithm=['auto', 'ball_tree', 'kd_tree', 'brute'])\n",
    "\n",
    "    grid = GridSearchCV(knn, param_grid, cv=5)\n",
    "    grid.fit(X_train, y_train)\n",
    "    \n",
    "    best_param = grid.best_params_\n",
    "    \n",
    "    print('Mejores hiperparámetros',grid.best_params_)\n",
    "    print('Mejor score',grid.best_score_)\n",
    "    \n",
    "    return best_param"
   ]
  },
  {
   "cell_type": "code",
   "execution_count": 296,
   "metadata": {},
   "outputs": [
    {
     "name": "stdout",
     "output_type": "stream",
     "text": [
      "Mejores hiperparámetros {'algorithm': 'auto', 'n_neighbors': 2, 'weights': 'uniform'}\n",
      "Mejor score 0.8428571428571429\n"
     ]
    }
   ],
   "source": [
    "best_param_vis = model(X_train_vis, y_train_vis)"
   ]
  },
  {
   "cell_type": "markdown",
   "metadata": {},
   "source": [
    "### Modelo final con espectro visible"
   ]
  },
  {
   "cell_type": "code",
   "execution_count": 311,
   "metadata": {},
   "outputs": [],
   "source": [
    "def train_test_model(X_train, y_train, X_test, y_test, y_data, best_param):\n",
    "    \n",
    "    clf = KNeighborsClassifier(**best_param)\n",
    "    clf.fit(X_train, y_train)\n",
    "\n",
    "    p = clf.predict(X_test)\n",
    "    \n",
    "    #Importe el módulo de métricas de sklearn para medir el desempeño (accuracy_score) de su modelo.\n",
    "    print(\"Train set Accuracy: \", metrics.accuracy_score(y_train, clf.predict(X_train)))\n",
    "    print(\"Test set Accuracy: \", metrics.accuracy_score(y_test, p))\n",
    "    \n",
    "    # Matrix de confusión\n",
    "    mat = confusion_matrix(y_test, p)\n",
    "    sns.heatmap(mat.T, square=True, annot=True, fmt='d', cbar=False, cmap=\"Blues\",\n",
    "               xticklabels=['B', 'C', 'Ch', 'S', 'Sl', 'X'],\n",
    "               yticklabels=['B', 'C', 'Ch', 'S', 'Sl', 'X'])\n",
    "    plt.title('Matriz de confusión')\n",
    "    plt.xlabel('Categoría real')\n",
    "    plt.ylabel('Categoría Predicha')\n",
    "    print(classification_report(y_test, p))\n",
    "    \n",
    "    \n",
    "    #train model with cv of 5 \n",
    "    cv_scores = cross_val_score(clf, X_test , y_test, cv=5)\n",
    "    #print each cv score (accuracy) and average them\n",
    "    print(cv_scores)\n",
    "    print('cv_scores mean:{}'.format(np.mean(cv_scores)))\n",
    "    \n",
    "    # Show first two principal components without scaler\n",
    "    pca = PCA()\n",
    "    plt.figure(figsize=(8,6))\n",
    "    Xt = pca.fit_transform(X_test)\n",
    "    plot = plt.scatter(Xt[:,0], Xt[:,1], c=y_test.astype(\"category\").cat.codes)\n",
    "    plt.legend(handles=plot.legend_elements()[0], labels=['B', 'C', 'Ch', 'S', 'Sl', 'X'])\n",
    "    plt.xlabel(\"PC1\")\n",
    "    plt.ylabel(\"PC2\")\n",
    "    plt.title(\"Primeros dos componenetes principales\")\n",
    "    plt.grid()\n",
    "    plt.show()\n",
    "    \n",
    "    return p"
   ]
  },
  {
   "cell_type": "code",
   "execution_count": 312,
   "metadata": {
    "scrolled": false
   },
   "outputs": [
    {
     "name": "stdout",
     "output_type": "stream",
     "text": [
      "Train set Accuracy:  0.9\n",
      "Test set Accuracy:  0.9\n",
      "              precision    recall  f1-score   support\n",
      "\n",
      "           B       1.00      1.00      1.00         3\n",
      "           C       1.00      1.00      1.00         5\n",
      "          Ch       1.00      1.00      1.00         6\n",
      "           S       0.80      0.89      0.84         9\n",
      "          Sl       0.67      0.67      0.67         3\n",
      "           X       1.00      0.75      0.86         4\n",
      "\n",
      "    accuracy                           0.90        30\n",
      "   macro avg       0.91      0.88      0.89        30\n",
      "weighted avg       0.91      0.90      0.90        30\n",
      "\n",
      "[0.66666667 0.83333333 0.66666667 1.         1.        ]\n",
      "cv_scores mean:0.8333333333333333\n"
     ]
    },
    {
     "name": "stderr",
     "output_type": "stream",
     "text": [
      "/Users/daniandreacosmo/opt/anaconda3/lib/python3.7/site-packages/sklearn/model_selection/_split.py:667: UserWarning: The least populated class in y has only 3 members, which is less than n_splits=5.\n",
      "  % (min_groups, self.n_splits)), UserWarning)\n"
     ]
    },
    {
     "data": {
      "image/png": "[encoded data removed]",
      "text/plain": [
       "<Figure size 720x432 with 1 Axes>"
      ]
     },
     "metadata": {
      "needs_background": "light"
     },
     "output_type": "display_data"
    },
    {
     "data": {
      "image/png": "[encoded data removed]",
      "text/plain": [
       "<Figure size 576x432 with 1 Axes>"
      ]
     },
     "metadata": {
      "needs_background": "light"
     },
     "output_type": "display_data"
    }
   ],
   "source": [
    "pred_vis = train_test_model(X_train_vis, \n",
    "                            y_train_vis, \n",
    "                            X_test_vis, \n",
    "                            y_test_vis, \n",
    "                            y_data, \n",
    "                            best_param_vis)"
   ]
  },
  {
   "cell_type": "code",
   "execution_count": 313,
   "metadata": {
    "scrolled": false
   },
   "outputs": [
    {
     "data": {
      "text/html": [
       "<div>\n",
       "<style scoped>\n",
       "    .dataframe tbody tr th:only-of-type {\n",
       "        vertical-align: middle;\n",
       "    }\n",
       "\n",
       "    .dataframe tbody tr th {\n",
       "        vertical-align: top;\n",
       "    }\n",
       "\n",
       "    .dataframe thead th {\n",
       "        text-align: right;\n",
       "    }\n",
       "</style>\n",
       "<table border=\"1\" class=\"dataframe\">\n",
       "  <thead>\n",
       "    <tr style=\"text-align: right;\">\n",
       "      <th></th>\n",
       "      <th>y_test</th>\n",
       "      <th>p</th>\n",
       "    </tr>\n",
       "  </thead>\n",
       "  <tbody>\n",
       "    <tr>\n",
       "      <th>0</th>\n",
       "      <td>Ch</td>\n",
       "      <td>Ch</td>\n",
       "    </tr>\n",
       "    <tr>\n",
       "      <th>1</th>\n",
       "      <td>S</td>\n",
       "      <td>S</td>\n",
       "    </tr>\n",
       "    <tr>\n",
       "      <th>2</th>\n",
       "      <td>Sl</td>\n",
       "      <td>S</td>\n",
       "    </tr>\n",
       "    <tr>\n",
       "      <th>3</th>\n",
       "      <td>C</td>\n",
       "      <td>C</td>\n",
       "    </tr>\n",
       "    <tr>\n",
       "      <th>4</th>\n",
       "      <td>B</td>\n",
       "      <td>B</td>\n",
       "    </tr>\n",
       "    <tr>\n",
       "      <th>5</th>\n",
       "      <td>C</td>\n",
       "      <td>C</td>\n",
       "    </tr>\n",
       "    <tr>\n",
       "      <th>6</th>\n",
       "      <td>X</td>\n",
       "      <td>X</td>\n",
       "    </tr>\n",
       "    <tr>\n",
       "      <th>7</th>\n",
       "      <td>B</td>\n",
       "      <td>B</td>\n",
       "    </tr>\n",
       "    <tr>\n",
       "      <th>8</th>\n",
       "      <td>S</td>\n",
       "      <td>Sl</td>\n",
       "    </tr>\n",
       "    <tr>\n",
       "      <th>9</th>\n",
       "      <td>C</td>\n",
       "      <td>C</td>\n",
       "    </tr>\n",
       "    <tr>\n",
       "      <th>10</th>\n",
       "      <td>Ch</td>\n",
       "      <td>Ch</td>\n",
       "    </tr>\n",
       "    <tr>\n",
       "      <th>11</th>\n",
       "      <td>C</td>\n",
       "      <td>C</td>\n",
       "    </tr>\n",
       "    <tr>\n",
       "      <th>12</th>\n",
       "      <td>S</td>\n",
       "      <td>S</td>\n",
       "    </tr>\n",
       "    <tr>\n",
       "      <th>13</th>\n",
       "      <td>S</td>\n",
       "      <td>S</td>\n",
       "    </tr>\n",
       "    <tr>\n",
       "      <th>14</th>\n",
       "      <td>S</td>\n",
       "      <td>S</td>\n",
       "    </tr>\n",
       "    <tr>\n",
       "      <th>15</th>\n",
       "      <td>S</td>\n",
       "      <td>S</td>\n",
       "    </tr>\n",
       "    <tr>\n",
       "      <th>16</th>\n",
       "      <td>Ch</td>\n",
       "      <td>Ch</td>\n",
       "    </tr>\n",
       "    <tr>\n",
       "      <th>17</th>\n",
       "      <td>Ch</td>\n",
       "      <td>Ch</td>\n",
       "    </tr>\n",
       "    <tr>\n",
       "      <th>18</th>\n",
       "      <td>X</td>\n",
       "      <td>S</td>\n",
       "    </tr>\n",
       "    <tr>\n",
       "      <th>19</th>\n",
       "      <td>Sl</td>\n",
       "      <td>Sl</td>\n",
       "    </tr>\n",
       "    <tr>\n",
       "      <th>20</th>\n",
       "      <td>X</td>\n",
       "      <td>X</td>\n",
       "    </tr>\n",
       "    <tr>\n",
       "      <th>21</th>\n",
       "      <td>S</td>\n",
       "      <td>S</td>\n",
       "    </tr>\n",
       "    <tr>\n",
       "      <th>22</th>\n",
       "      <td>Ch</td>\n",
       "      <td>Ch</td>\n",
       "    </tr>\n",
       "    <tr>\n",
       "      <th>23</th>\n",
       "      <td>B</td>\n",
       "      <td>B</td>\n",
       "    </tr>\n",
       "    <tr>\n",
       "      <th>24</th>\n",
       "      <td>S</td>\n",
       "      <td>S</td>\n",
       "    </tr>\n",
       "    <tr>\n",
       "      <th>25</th>\n",
       "      <td>X</td>\n",
       "      <td>X</td>\n",
       "    </tr>\n",
       "    <tr>\n",
       "      <th>26</th>\n",
       "      <td>Ch</td>\n",
       "      <td>Ch</td>\n",
       "    </tr>\n",
       "    <tr>\n",
       "      <th>27</th>\n",
       "      <td>Sl</td>\n",
       "      <td>Sl</td>\n",
       "    </tr>\n",
       "    <tr>\n",
       "      <th>28</th>\n",
       "      <td>S</td>\n",
       "      <td>S</td>\n",
       "    </tr>\n",
       "    <tr>\n",
       "      <th>29</th>\n",
       "      <td>C</td>\n",
       "      <td>C</td>\n",
       "    </tr>\n",
       "  </tbody>\n",
       "</table>\n",
       "</div>"
      ],
      "text/plain": [
       "   y_test   p\n",
       "0      Ch  Ch\n",
       "1       S   S\n",
       "2      Sl   S\n",
       "3       C   C\n",
       "4       B   B\n",
       "5       C   C\n",
       "6       X   X\n",
       "7       B   B\n",
       "8       S  Sl\n",
       "9       C   C\n",
       "10     Ch  Ch\n",
       "11      C   C\n",
       "12      S   S\n",
       "13      S   S\n",
       "14      S   S\n",
       "15      S   S\n",
       "16     Ch  Ch\n",
       "17     Ch  Ch\n",
       "18      X   S\n",
       "19     Sl  Sl\n",
       "20      X   X\n",
       "21      S   S\n",
       "22     Ch  Ch\n",
       "23      B   B\n",
       "24      S   S\n",
       "25      X   X\n",
       "26     Ch  Ch\n",
       "27     Sl  Sl\n",
       "28      S   S\n",
       "29      C   C"
      ]
     },
     "execution_count": 313,
     "metadata": {},
     "output_type": "execute_result"
    }
   ],
   "source": [
    "compa = pd.DataFrame({'y_test': y_test_vis.values, 'p': pred_vis})\n",
    "compa"
   ]
  },
  {
   "cell_type": "markdown",
   "metadata": {},
   "source": [
    "## Resultados con el dataframe del espectro **Infrarrojo Cercano**"
   ]
  },
  {
   "cell_type": "code",
   "execution_count": 322,
   "metadata": {},
   "outputs": [
    {
     "data": {
      "text/plain": [
       "((70, 858), (30, 858), (70,), (30,))"
      ]
     },
     "execution_count": 322,
     "metadata": {},
     "output_type": "execute_result"
    }
   ],
   "source": [
    "X_train_nir, X_test_nir, y_train_nir, y_test_nir = train_test_split(X_nir, y_data, test_size=0.3, random_state=1)\n",
    "X_train_nir.shape, X_test_nir.shape, y_train_nir.shape, y_test_nir.shape"
   ]
  },
  {
   "cell_type": "code",
   "execution_count": 323,
   "metadata": {},
   "outputs": [
    {
     "data": {
      "image/png": "[encoded data removed]",
      "text/plain": [
       "<Figure size 720x432 with 1 Axes>"
      ]
     },
     "metadata": {
      "needs_background": "light"
     },
     "output_type": "display_data"
    }
   ],
   "source": [
    "graph_neighbors(X_train_nir, y_train_nir, X_test_nir, y_test_nir)"
   ]
  },
  {
   "cell_type": "code",
   "execution_count": 324,
   "metadata": {},
   "outputs": [
    {
     "name": "stdout",
     "output_type": "stream",
     "text": [
      "Mejores hiperparámetros {'algorithm': 'auto', 'n_neighbors': 1, 'weights': 'uniform'}\n",
      "Mejor score 0.7714285714285715\n"
     ]
    }
   ],
   "source": [
    "best_param_nir = model(X_train_nir, y_train_nir)"
   ]
  },
  {
   "cell_type": "code",
   "execution_count": 325,
   "metadata": {
    "scrolled": false
   },
   "outputs": [
    {
     "name": "stdout",
     "output_type": "stream",
     "text": [
      "Train set Accuracy:  1.0\n",
      "Test set Accuracy:  0.7333333333333333\n",
      "              precision    recall  f1-score   support\n",
      "\n",
      "           B       0.50      0.67      0.57         3\n",
      "           C       1.00      0.20      0.33         5\n",
      "          Ch       0.50      0.83      0.62         6\n",
      "           S       1.00      0.89      0.94         9\n",
      "          Sl       0.75      1.00      0.86         3\n",
      "           X       1.00      0.75      0.86         4\n",
      "\n",
      "    accuracy                           0.73        30\n",
      "   macro avg       0.79      0.72      0.70        30\n",
      "weighted avg       0.82      0.73      0.72        30\n",
      "\n",
      "[0.5        0.5        0.66666667 0.5        0.66666667]\n",
      "cv_scores mean:0.5666666666666667\n"
     ]
    },
    {
     "name": "stderr",
     "output_type": "stream",
     "text": [
      "/Users/daniandreacosmo/opt/anaconda3/lib/python3.7/site-packages/sklearn/model_selection/_split.py:667: UserWarning: The least populated class in y has only 3 members, which is less than n_splits=5.\n",
      "  % (min_groups, self.n_splits)), UserWarning)\n"
     ]
    },
    {
     "data": {
      "image/png": "[encoded data removed]",
      "text/plain": [
       "<Figure size 720x432 with 1 Axes>"
      ]
     },
     "metadata": {
      "needs_background": "light"
     },
     "output_type": "display_data"
    },
    {
     "data": {
      "image/png": "[encoded data removed]",
      "text/plain": [
       "<Figure size 576x432 with 1 Axes>"
      ]
     },
     "metadata": {
      "needs_background": "light"
     },
     "output_type": "display_data"
    }
   ],
   "source": [
    "pred_nir = train_test_model(X_train_nir, \n",
    "                            y_train_nir, \n",
    "                            X_test_nir, \n",
    "                            y_test_nir, \n",
    "                            y_data, \n",
    "                            best_param_nir)"
   ]
  },
  {
   "cell_type": "code",
   "execution_count": null,
   "metadata": {},
   "outputs": [],
   "source": []
  },
  {
   "cell_type": "code",
   "execution_count": null,
   "metadata": {},
   "outputs": [],
   "source": []
  },
  {
   "cell_type": "code",
   "execution_count": null,
   "metadata": {},
   "outputs": [],
   "source": []
  }
 ],
 "metadata": {
  "kernelspec": {
   "display_name": "Python 3",
   "language": "python",
   "name": "python3"
  },
  "language_info": {
   "codemirror_mode": {
    "name": "ipython",
    "version": 3
   },
   "file_extension": ".py",
   "mimetype": "text/x-python",
   "name": "python",
   "nbconvert_exporter": "python",
   "pygments_lexer": "ipython3",
   "version": "3.7.6"
  }
 },
 "nbformat": 4,
 "nbformat_minor": 4
}
