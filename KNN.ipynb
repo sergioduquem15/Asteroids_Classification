{
 "cells": [
  {
   "cell_type": "markdown",
   "metadata": {},
   "source": [
    "# Implementación del algoritmo KNN "
   ]
  },
  {
   "cell_type": "code",
   "execution_count": 1,
   "metadata": {},
   "outputs": [],
   "source": [
    "from sklearn.neighbors import KNeighborsClassifier\n",
    "from sklearn.model_selection import train_test_split\n",
    "from sklearn.model_selection import validation_curve\n",
    "from sklearn import metrics\n",
    "from sklearn.metrics import confusion_matrix\n",
    "from sklearn.model_selection import GridSearchCV\n",
    "from sklearn.metrics import classification_report\n",
    "from sklearn.decomposition import PCA\n",
    "from sklearn.model_selection import cross_val_score\n",
    "from sklearn.preprocessing import StandardScaler\n",
    "from sklearn.model_selection import GridSearchCV\n",
    "\n",
    "\n",
    "import matplotlib.pyplot as plt\n",
    "import seaborn as sns\n",
    "import pandas as pd\n",
    "import numpy as np"
   ]
  },
  {
   "cell_type": "code",
   "execution_count": 54,
   "metadata": {},
   "outputs": [
    {
     "data": {
      "text/html": [
       "<div>\n",
       "<style scoped>\n",
       "    .dataframe tbody tr th:only-of-type {\n",
       "        vertical-align: middle;\n",
       "    }\n",
       "\n",
       "    .dataframe tbody tr th {\n",
       "        vertical-align: top;\n",
       "    }\n",
       "\n",
       "    .dataframe thead th {\n",
       "        text-align: right;\n",
       "    }\n",
       "</style>\n",
       "<table border=\"1\" class=\"dataframe\">\n",
       "  <thead>\n",
       "    <tr style=\"text-align: right;\">\n",
       "      <th></th>\n",
       "      <th>name</th>\n",
       "      <th>spect_b</th>\n",
       "      <th>0.45</th>\n",
       "      <th>0.452002002002002</th>\n",
       "      <th>0.45400400400400404</th>\n",
       "      <th>0.456006006006006</th>\n",
       "      <th>0.458008008008008</th>\n",
       "      <th>0.46001001001001</th>\n",
       "      <th>0.46201201201201203</th>\n",
       "      <th>0.46401401401401404</th>\n",
       "      <th>...</th>\n",
       "      <th>2.431981981981982</th>\n",
       "      <th>2.433983983983984</th>\n",
       "      <th>2.4359859859859863</th>\n",
       "      <th>2.437987987987988</th>\n",
       "      <th>2.43998998998999</th>\n",
       "      <th>2.441991991991992</th>\n",
       "      <th>2.443993993993994</th>\n",
       "      <th>2.4459959959959963</th>\n",
       "      <th>2.447997997997998</th>\n",
       "      <th>2.45</th>\n",
       "    </tr>\n",
       "  </thead>\n",
       "  <tbody>\n",
       "    <tr>\n",
       "      <th>0</th>\n",
       "      <td>Abehiroshi</td>\n",
       "      <td>V</td>\n",
       "      <td>0.9765</td>\n",
       "      <td>0.873727</td>\n",
       "      <td>0.802019</td>\n",
       "      <td>0.908693</td>\n",
       "      <td>0.992507</td>\n",
       "      <td>0.892887</td>\n",
       "      <td>0.806158</td>\n",
       "      <td>0.822114</td>\n",
       "      <td>...</td>\n",
       "      <td>1.453882</td>\n",
       "      <td>1.428696</td>\n",
       "      <td>1.286868</td>\n",
       "      <td>1.095002</td>\n",
       "      <td>0.999979</td>\n",
       "      <td>1.100082</td>\n",
       "      <td>1.281601</td>\n",
       "      <td>1.382604</td>\n",
       "      <td>1.370983</td>\n",
       "      <td>1.3453</td>\n",
       "    </tr>\n",
       "    <tr>\n",
       "      <th>1</th>\n",
       "      <td>Senrikyu</td>\n",
       "      <td>B</td>\n",
       "      <td>1.1423</td>\n",
       "      <td>1.104633</td>\n",
       "      <td>1.062175</td>\n",
       "      <td>0.996224</td>\n",
       "      <td>0.949799</td>\n",
       "      <td>1.010879</td>\n",
       "      <td>1.060699</td>\n",
       "      <td>1.024171</td>\n",
       "      <td>...</td>\n",
       "      <td>0.991043</td>\n",
       "      <td>0.997508</td>\n",
       "      <td>1.001280</td>\n",
       "      <td>1.001278</td>\n",
       "      <td>1.000005</td>\n",
       "      <td>0.999570</td>\n",
       "      <td>0.999831</td>\n",
       "      <td>1.000092</td>\n",
       "      <td>1.000091</td>\n",
       "      <td>1.0000</td>\n",
       "    </tr>\n",
       "    <tr>\n",
       "      <th>2</th>\n",
       "      <td>Robinson</td>\n",
       "      <td>Sr</td>\n",
       "      <td>0.8445</td>\n",
       "      <td>0.770504</td>\n",
       "      <td>0.786651</td>\n",
       "      <td>0.801385</td>\n",
       "      <td>0.780085</td>\n",
       "      <td>0.812111</td>\n",
       "      <td>0.815159</td>\n",
       "      <td>0.828218</td>\n",
       "      <td>...</td>\n",
       "      <td>1.696828</td>\n",
       "      <td>1.687543</td>\n",
       "      <td>1.699685</td>\n",
       "      <td>1.727674</td>\n",
       "      <td>1.741618</td>\n",
       "      <td>1.724284</td>\n",
       "      <td>1.714307</td>\n",
       "      <td>1.760465</td>\n",
       "      <td>1.817740</td>\n",
       "      <td>1.7467</td>\n",
       "    </tr>\n",
       "    <tr>\n",
       "      <th>3</th>\n",
       "      <td>Paris</td>\n",
       "      <td>T</td>\n",
       "      <td>0.9238</td>\n",
       "      <td>0.935045</td>\n",
       "      <td>0.928104</td>\n",
       "      <td>0.933731</td>\n",
       "      <td>0.943692</td>\n",
       "      <td>0.937315</td>\n",
       "      <td>0.953128</td>\n",
       "      <td>0.967190</td>\n",
       "      <td>...</td>\n",
       "      <td>2.056997</td>\n",
       "      <td>1.990262</td>\n",
       "      <td>1.979909</td>\n",
       "      <td>2.040457</td>\n",
       "      <td>1.958246</td>\n",
       "      <td>1.594457</td>\n",
       "      <td>1.155880</td>\n",
       "      <td>0.926450</td>\n",
       "      <td>0.944271</td>\n",
       "      <td>1.0000</td>\n",
       "    </tr>\n",
       "    <tr>\n",
       "      <th>4</th>\n",
       "      <td>Farinella</td>\n",
       "      <td>D</td>\n",
       "      <td>0.8795</td>\n",
       "      <td>0.953828</td>\n",
       "      <td>0.956625</td>\n",
       "      <td>0.849646</td>\n",
       "      <td>0.784283</td>\n",
       "      <td>0.867913</td>\n",
       "      <td>0.938608</td>\n",
       "      <td>0.909334</td>\n",
       "      <td>...</td>\n",
       "      <td>1.482280</td>\n",
       "      <td>1.065135</td>\n",
       "      <td>1.077220</td>\n",
       "      <td>1.503595</td>\n",
       "      <td>1.945946</td>\n",
       "      <td>2.089067</td>\n",
       "      <td>2.025298</td>\n",
       "      <td>1.945494</td>\n",
       "      <td>1.926199</td>\n",
       "      <td>1.9289</td>\n",
       "    </tr>\n",
       "  </tbody>\n",
       "</table>\n",
       "<p>5 rows × 1002 columns</p>\n",
       "</div>"
      ],
      "text/plain": [
       "         name spect_b    0.45  0.452002002002002  0.45400400400400404  \\\n",
       "0  Abehiroshi       V  0.9765           0.873727             0.802019   \n",
       "1    Senrikyu       B  1.1423           1.104633             1.062175   \n",
       "2    Robinson      Sr  0.8445           0.770504             0.786651   \n",
       "3       Paris       T  0.9238           0.935045             0.928104   \n",
       "4   Farinella       D  0.8795           0.953828             0.956625   \n",
       "\n",
       "   0.456006006006006  0.458008008008008  0.46001001001001  \\\n",
       "0           0.908693           0.992507          0.892887   \n",
       "1           0.996224           0.949799          1.010879   \n",
       "2           0.801385           0.780085          0.812111   \n",
       "3           0.933731           0.943692          0.937315   \n",
       "4           0.849646           0.784283          0.867913   \n",
       "\n",
       "   0.46201201201201203  0.46401401401401404  ...  2.431981981981982  \\\n",
       "0             0.806158             0.822114  ...           1.453882   \n",
       "1             1.060699             1.024171  ...           0.991043   \n",
       "2             0.815159             0.828218  ...           1.696828   \n",
       "3             0.953128             0.967190  ...           2.056997   \n",
       "4             0.938608             0.909334  ...           1.482280   \n",
       "\n",
       "   2.433983983983984  2.4359859859859863  2.437987987987988  2.43998998998999  \\\n",
       "0           1.428696            1.286868           1.095002          0.999979   \n",
       "1           0.997508            1.001280           1.001278          1.000005   \n",
       "2           1.687543            1.699685           1.727674          1.741618   \n",
       "3           1.990262            1.979909           2.040457          1.958246   \n",
       "4           1.065135            1.077220           1.503595          1.945946   \n",
       "\n",
       "   2.441991991991992  2.443993993993994  2.4459959959959963  \\\n",
       "0           1.100082           1.281601            1.382604   \n",
       "1           0.999570           0.999831            1.000092   \n",
       "2           1.724284           1.714307            1.760465   \n",
       "3           1.594457           1.155880            0.926450   \n",
       "4           2.089067           2.025298            1.945494   \n",
       "\n",
       "   2.447997997997998    2.45  \n",
       "0           1.370983  1.3453  \n",
       "1           1.000091  1.0000  \n",
       "2           1.817740  1.7467  \n",
       "3           0.944271  1.0000  \n",
       "4           1.926199  1.9289  \n",
       "\n",
       "[5 rows x 1002 columns]"
      ]
     },
     "execution_count": 54,
     "metadata": {},
     "output_type": "execute_result"
    }
   ],
   "source": [
    "df = pd.read_csv('data_final.txt', sep='\\t')\n",
    "df.head()"
   ]
  },
  {
   "cell_type": "code",
   "execution_count": 55,
   "metadata": {},
   "outputs": [
    {
     "data": {
      "text/html": [
       "<div>\n",
       "<style scoped>\n",
       "    .dataframe tbody tr th:only-of-type {\n",
       "        vertical-align: middle;\n",
       "    }\n",
       "\n",
       "    .dataframe tbody tr th {\n",
       "        vertical-align: top;\n",
       "    }\n",
       "\n",
       "    .dataframe thead th {\n",
       "        text-align: right;\n",
       "    }\n",
       "</style>\n",
       "<table border=\"1\" class=\"dataframe\">\n",
       "  <thead>\n",
       "    <tr style=\"text-align: right;\">\n",
       "      <th></th>\n",
       "      <th>name</th>\n",
       "      <th>spect_b</th>\n",
       "      <th>0.45</th>\n",
       "      <th>0.452002002002002</th>\n",
       "      <th>0.45400400400400404</th>\n",
       "      <th>0.456006006006006</th>\n",
       "      <th>0.458008008008008</th>\n",
       "      <th>0.46001001001001</th>\n",
       "      <th>0.46201201201201203</th>\n",
       "      <th>0.46401401401401404</th>\n",
       "      <th>...</th>\n",
       "      <th>2.431981981981982</th>\n",
       "      <th>2.433983983983984</th>\n",
       "      <th>2.4359859859859863</th>\n",
       "      <th>2.437987987987988</th>\n",
       "      <th>2.43998998998999</th>\n",
       "      <th>2.441991991991992</th>\n",
       "      <th>2.443993993993994</th>\n",
       "      <th>2.4459959959959963</th>\n",
       "      <th>2.447997997997998</th>\n",
       "      <th>2.45</th>\n",
       "    </tr>\n",
       "  </thead>\n",
       "  <tbody>\n",
       "    <tr>\n",
       "      <th>0</th>\n",
       "      <td>Herculina</td>\n",
       "      <td>S</td>\n",
       "      <td>0.8914</td>\n",
       "      <td>0.875610</td>\n",
       "      <td>0.881279</td>\n",
       "      <td>0.885462</td>\n",
       "      <td>0.881329</td>\n",
       "      <td>0.888441</td>\n",
       "      <td>0.892893</td>\n",
       "      <td>0.886009</td>\n",
       "      <td>...</td>\n",
       "      <td>1.352781</td>\n",
       "      <td>1.349533</td>\n",
       "      <td>1.351634</td>\n",
       "      <td>1.357668</td>\n",
       "      <td>1.359615</td>\n",
       "      <td>1.353470</td>\n",
       "      <td>1.352754</td>\n",
       "      <td>1.373783</td>\n",
       "      <td>1.394556</td>\n",
       "      <td>1.3545</td>\n",
       "    </tr>\n",
       "    <tr>\n",
       "      <th>1</th>\n",
       "      <td>Viola</td>\n",
       "      <td>C</td>\n",
       "      <td>0.9520</td>\n",
       "      <td>0.960647</td>\n",
       "      <td>0.969090</td>\n",
       "      <td>0.957766</td>\n",
       "      <td>0.946112</td>\n",
       "      <td>0.942624</td>\n",
       "      <td>0.926850</td>\n",
       "      <td>0.968657</td>\n",
       "      <td>...</td>\n",
       "      <td>0.999669</td>\n",
       "      <td>0.999658</td>\n",
       "      <td>1.000605</td>\n",
       "      <td>1.001571</td>\n",
       "      <td>1.000018</td>\n",
       "      <td>0.995364</td>\n",
       "      <td>0.995263</td>\n",
       "      <td>1.008854</td>\n",
       "      <td>1.031162</td>\n",
       "      <td>1.0430</td>\n",
       "    </tr>\n",
       "    <tr>\n",
       "      <th>2</th>\n",
       "      <td>Amalthea</td>\n",
       "      <td>S</td>\n",
       "      <td>0.7693</td>\n",
       "      <td>0.784984</td>\n",
       "      <td>0.802112</td>\n",
       "      <td>0.804150</td>\n",
       "      <td>0.807045</td>\n",
       "      <td>0.820651</td>\n",
       "      <td>0.822532</td>\n",
       "      <td>0.812712</td>\n",
       "      <td>...</td>\n",
       "      <td>1.500942</td>\n",
       "      <td>1.510873</td>\n",
       "      <td>1.518674</td>\n",
       "      <td>1.520577</td>\n",
       "      <td>1.514157</td>\n",
       "      <td>1.501261</td>\n",
       "      <td>1.500853</td>\n",
       "      <td>1.533893</td>\n",
       "      <td>1.566823</td>\n",
       "      <td>1.5112</td>\n",
       "    </tr>\n",
       "    <tr>\n",
       "      <th>3</th>\n",
       "      <td>Semiramis</td>\n",
       "      <td>Sl</td>\n",
       "      <td>0.7910</td>\n",
       "      <td>0.793745</td>\n",
       "      <td>0.816134</td>\n",
       "      <td>0.825555</td>\n",
       "      <td>0.816482</td>\n",
       "      <td>0.812446</td>\n",
       "      <td>0.831987</td>\n",
       "      <td>0.842509</td>\n",
       "      <td>...</td>\n",
       "      <td>1.301540</td>\n",
       "      <td>1.028991</td>\n",
       "      <td>1.079290</td>\n",
       "      <td>1.404117</td>\n",
       "      <td>1.599850</td>\n",
       "      <td>1.388267</td>\n",
       "      <td>1.065285</td>\n",
       "      <td>1.054813</td>\n",
       "      <td>1.368533</td>\n",
       "      <td>1.6032</td>\n",
       "    </tr>\n",
       "    <tr>\n",
       "      <th>4</th>\n",
       "      <td>Aegle</td>\n",
       "      <td>T</td>\n",
       "      <td>0.9162</td>\n",
       "      <td>0.922643</td>\n",
       "      <td>0.931914</td>\n",
       "      <td>0.936995</td>\n",
       "      <td>0.936008</td>\n",
       "      <td>0.931473</td>\n",
       "      <td>0.926989</td>\n",
       "      <td>0.929411</td>\n",
       "      <td>...</td>\n",
       "      <td>1.529221</td>\n",
       "      <td>1.533462</td>\n",
       "      <td>1.525479</td>\n",
       "      <td>1.515164</td>\n",
       "      <td>1.534771</td>\n",
       "      <td>1.592302</td>\n",
       "      <td>1.593200</td>\n",
       "      <td>1.424388</td>\n",
       "      <td>1.147495</td>\n",
       "      <td>1.0000</td>\n",
       "    </tr>\n",
       "  </tbody>\n",
       "</table>\n",
       "<p>5 rows × 1002 columns</p>\n",
       "</div>"
      ],
      "text/plain": [
       "        name spect_b    0.45  0.452002002002002  0.45400400400400404  \\\n",
       "0  Herculina       S  0.8914           0.875610             0.881279   \n",
       "1      Viola       C  0.9520           0.960647             0.969090   \n",
       "2   Amalthea       S  0.7693           0.784984             0.802112   \n",
       "3  Semiramis      Sl  0.7910           0.793745             0.816134   \n",
       "4      Aegle       T  0.9162           0.922643             0.931914   \n",
       "\n",
       "   0.456006006006006  0.458008008008008  0.46001001001001  \\\n",
       "0           0.885462           0.881329          0.888441   \n",
       "1           0.957766           0.946112          0.942624   \n",
       "2           0.804150           0.807045          0.820651   \n",
       "3           0.825555           0.816482          0.812446   \n",
       "4           0.936995           0.936008          0.931473   \n",
       "\n",
       "   0.46201201201201203  0.46401401401401404  ...  2.431981981981982  \\\n",
       "0             0.892893             0.886009  ...           1.352781   \n",
       "1             0.926850             0.968657  ...           0.999669   \n",
       "2             0.822532             0.812712  ...           1.500942   \n",
       "3             0.831987             0.842509  ...           1.301540   \n",
       "4             0.926989             0.929411  ...           1.529221   \n",
       "\n",
       "   2.433983983983984  2.4359859859859863  2.437987987987988  2.43998998998999  \\\n",
       "0           1.349533            1.351634           1.357668          1.359615   \n",
       "1           0.999658            1.000605           1.001571          1.000018   \n",
       "2           1.510873            1.518674           1.520577          1.514157   \n",
       "3           1.028991            1.079290           1.404117          1.599850   \n",
       "4           1.533462            1.525479           1.515164          1.534771   \n",
       "\n",
       "   2.441991991991992  2.443993993993994  2.4459959959959963  \\\n",
       "0           1.353470           1.352754            1.373783   \n",
       "1           0.995364           0.995263            1.008854   \n",
       "2           1.501261           1.500853            1.533893   \n",
       "3           1.388267           1.065285            1.054813   \n",
       "4           1.592302           1.593200            1.424388   \n",
       "\n",
       "   2.447997997997998    2.45  \n",
       "0           1.394556  1.3545  \n",
       "1           1.031162  1.0430  \n",
       "2           1.566823  1.5112  \n",
       "3           1.368533  1.6032  \n",
       "4           1.147495  1.0000  \n",
       "\n",
       "[5 rows x 1002 columns]"
      ]
     },
     "execution_count": 55,
     "metadata": {},
     "output_type": "execute_result"
    }
   ],
   "source": [
    "# Mezclar el dtaset de forma aleatoria\n",
    "df = df.sample(frac=1).reset_index(drop=True)\n",
    "df.head()"
   ]
  },
  {
   "cell_type": "markdown",
   "metadata": {},
   "source": [
    "Se observa que el dataset está muy desbalanceado:"
   ]
  },
  {
   "cell_type": "code",
   "execution_count": 56,
   "metadata": {},
   "outputs": [
    {
     "data": {
      "text/plain": [
       "<matplotlib.axes._subplots.AxesSubplot at 0x1a24052e50>"
      ]
     },
     "execution_count": 56,
     "metadata": {},
     "output_type": "execute_result"
    },
    {
     "data": {
      "image/png": "[encoded data removed]",
      "text/plain": [
       "<Figure size 432x288 with 1 Axes>"
      ]
     },
     "metadata": {
      "needs_background": "light"
     },
     "output_type": "display_data"
    }
   ],
   "source": [
    "sns.countplot(x='spect_b', data=df, palette='cool')"
   ]
  },
  {
   "cell_type": "markdown",
   "metadata": {},
   "source": [
    "Se eligen las 4 clases principales: **S,  h,  X,  C**  y quedan 100 asteroides:"
   ]
  },
  {
   "cell_type": "code",
   "execution_count": 57,
   "metadata": {},
   "outputs": [
    {
     "data": {
      "text/plain": [
       "(100, 1002)"
      ]
     },
     "execution_count": 57,
     "metadata": {},
     "output_type": "execute_result"
    }
   ],
   "source": [
    "df = df[(df.spect_b == 'S') | (df.spect_b == 'Ch') | (df.spect_b == 'X') | (df.spect_b == 'C') | (df.spect_b == 'Sl') | (df.spect_b == 'B') ]\n",
    "df.shape"
   ]
  },
  {
   "cell_type": "code",
   "execution_count": 58,
   "metadata": {},
   "outputs": [
    {
     "data": {
      "text/plain": [
       "<matplotlib.axes._subplots.AxesSubplot at 0x1a235723d0>"
      ]
     },
     "execution_count": 58,
     "metadata": {},
     "output_type": "execute_result"
    },
    {
     "data": {
      "image/png": "[encoded data removed]",
      "text/plain": [
       "<Figure size 432x288 with 1 Axes>"
      ]
     },
     "metadata": {
      "needs_background": "light"
     },
     "output_type": "display_data"
    }
   ],
   "source": [
    "sns.countplot(x='spect_b', data=df, palette='cool')"
   ]
  },
  {
   "cell_type": "markdown",
   "metadata": {},
   "source": [
    "Se divide en características (intensidad en cada longitud de onda) y labels (tipo espectral): "
   ]
  },
  {
   "cell_type": "code",
   "execution_count": 59,
   "metadata": {},
   "outputs": [
    {
     "data": {
      "text/html": [
       "<div>\n",
       "<style scoped>\n",
       "    .dataframe tbody tr th:only-of-type {\n",
       "        vertical-align: middle;\n",
       "    }\n",
       "\n",
       "    .dataframe tbody tr th {\n",
       "        vertical-align: top;\n",
       "    }\n",
       "\n",
       "    .dataframe thead th {\n",
       "        text-align: right;\n",
       "    }\n",
       "</style>\n",
       "<table border=\"1\" class=\"dataframe\">\n",
       "  <thead>\n",
       "    <tr style=\"text-align: right;\">\n",
       "      <th></th>\n",
       "      <th>0.45</th>\n",
       "      <th>0.452002002002002</th>\n",
       "      <th>0.45400400400400404</th>\n",
       "      <th>0.456006006006006</th>\n",
       "      <th>0.458008008008008</th>\n",
       "      <th>0.46001001001001</th>\n",
       "      <th>0.46201201201201203</th>\n",
       "      <th>0.46401401401401404</th>\n",
       "      <th>0.46601601601601605</th>\n",
       "      <th>0.468018018018018</th>\n",
       "      <th>...</th>\n",
       "      <th>2.431981981981982</th>\n",
       "      <th>2.433983983983984</th>\n",
       "      <th>2.4359859859859863</th>\n",
       "      <th>2.437987987987988</th>\n",
       "      <th>2.43998998998999</th>\n",
       "      <th>2.441991991991992</th>\n",
       "      <th>2.443993993993994</th>\n",
       "      <th>2.4459959959959963</th>\n",
       "      <th>2.447997997997998</th>\n",
       "      <th>2.45</th>\n",
       "    </tr>\n",
       "  </thead>\n",
       "  <tbody>\n",
       "    <tr>\n",
       "      <th>0</th>\n",
       "      <td>0.8914</td>\n",
       "      <td>0.875610</td>\n",
       "      <td>0.881279</td>\n",
       "      <td>0.885462</td>\n",
       "      <td>0.881329</td>\n",
       "      <td>0.888441</td>\n",
       "      <td>0.892893</td>\n",
       "      <td>0.886009</td>\n",
       "      <td>0.884592</td>\n",
       "      <td>0.896773</td>\n",
       "      <td>...</td>\n",
       "      <td>1.352781</td>\n",
       "      <td>1.349533</td>\n",
       "      <td>1.351634</td>\n",
       "      <td>1.357668</td>\n",
       "      <td>1.359615</td>\n",
       "      <td>1.353470</td>\n",
       "      <td>1.352754</td>\n",
       "      <td>1.373783</td>\n",
       "      <td>1.394556</td>\n",
       "      <td>1.3545</td>\n",
       "    </tr>\n",
       "    <tr>\n",
       "      <th>1</th>\n",
       "      <td>0.9520</td>\n",
       "      <td>0.960647</td>\n",
       "      <td>0.969090</td>\n",
       "      <td>0.957766</td>\n",
       "      <td>0.946112</td>\n",
       "      <td>0.942624</td>\n",
       "      <td>0.926850</td>\n",
       "      <td>0.968657</td>\n",
       "      <td>0.982194</td>\n",
       "      <td>0.951616</td>\n",
       "      <td>...</td>\n",
       "      <td>0.999669</td>\n",
       "      <td>0.999658</td>\n",
       "      <td>1.000605</td>\n",
       "      <td>1.001571</td>\n",
       "      <td>1.000018</td>\n",
       "      <td>0.995364</td>\n",
       "      <td>0.995263</td>\n",
       "      <td>1.008854</td>\n",
       "      <td>1.031162</td>\n",
       "      <td>1.0430</td>\n",
       "    </tr>\n",
       "    <tr>\n",
       "      <th>2</th>\n",
       "      <td>0.7693</td>\n",
       "      <td>0.784984</td>\n",
       "      <td>0.802112</td>\n",
       "      <td>0.804150</td>\n",
       "      <td>0.807045</td>\n",
       "      <td>0.820651</td>\n",
       "      <td>0.822532</td>\n",
       "      <td>0.812712</td>\n",
       "      <td>0.824150</td>\n",
       "      <td>0.847672</td>\n",
       "      <td>...</td>\n",
       "      <td>1.500942</td>\n",
       "      <td>1.510873</td>\n",
       "      <td>1.518674</td>\n",
       "      <td>1.520577</td>\n",
       "      <td>1.514157</td>\n",
       "      <td>1.501261</td>\n",
       "      <td>1.500853</td>\n",
       "      <td>1.533893</td>\n",
       "      <td>1.566823</td>\n",
       "      <td>1.5112</td>\n",
       "    </tr>\n",
       "    <tr>\n",
       "      <th>3</th>\n",
       "      <td>0.7910</td>\n",
       "      <td>0.793745</td>\n",
       "      <td>0.816134</td>\n",
       "      <td>0.825555</td>\n",
       "      <td>0.816482</td>\n",
       "      <td>0.812446</td>\n",
       "      <td>0.831987</td>\n",
       "      <td>0.842509</td>\n",
       "      <td>0.840046</td>\n",
       "      <td>0.844609</td>\n",
       "      <td>...</td>\n",
       "      <td>1.301540</td>\n",
       "      <td>1.028991</td>\n",
       "      <td>1.079290</td>\n",
       "      <td>1.404117</td>\n",
       "      <td>1.599850</td>\n",
       "      <td>1.388267</td>\n",
       "      <td>1.065285</td>\n",
       "      <td>1.054813</td>\n",
       "      <td>1.368533</td>\n",
       "      <td>1.6032</td>\n",
       "    </tr>\n",
       "    <tr>\n",
       "      <th>5</th>\n",
       "      <td>0.8674</td>\n",
       "      <td>0.864887</td>\n",
       "      <td>0.847679</td>\n",
       "      <td>0.852389</td>\n",
       "      <td>0.877586</td>\n",
       "      <td>0.876000</td>\n",
       "      <td>0.852566</td>\n",
       "      <td>0.872618</td>\n",
       "      <td>0.886052</td>\n",
       "      <td>0.872929</td>\n",
       "      <td>...</td>\n",
       "      <td>1.285539</td>\n",
       "      <td>1.287056</td>\n",
       "      <td>1.290116</td>\n",
       "      <td>1.293470</td>\n",
       "      <td>1.293911</td>\n",
       "      <td>1.290567</td>\n",
       "      <td>1.292408</td>\n",
       "      <td>1.309674</td>\n",
       "      <td>1.324134</td>\n",
       "      <td>1.2889</td>\n",
       "    </tr>\n",
       "  </tbody>\n",
       "</table>\n",
       "<p>5 rows × 1000 columns</p>\n",
       "</div>"
      ],
      "text/plain": [
       "     0.45  0.452002002002002  0.45400400400400404  0.456006006006006  \\\n",
       "0  0.8914           0.875610             0.881279           0.885462   \n",
       "1  0.9520           0.960647             0.969090           0.957766   \n",
       "2  0.7693           0.784984             0.802112           0.804150   \n",
       "3  0.7910           0.793745             0.816134           0.825555   \n",
       "5  0.8674           0.864887             0.847679           0.852389   \n",
       "\n",
       "   0.458008008008008  0.46001001001001  0.46201201201201203  \\\n",
       "0           0.881329          0.888441             0.892893   \n",
       "1           0.946112          0.942624             0.926850   \n",
       "2           0.807045          0.820651             0.822532   \n",
       "3           0.816482          0.812446             0.831987   \n",
       "5           0.877586          0.876000             0.852566   \n",
       "\n",
       "   0.46401401401401404  0.46601601601601605  0.468018018018018  ...  \\\n",
       "0             0.886009             0.884592           0.896773  ...   \n",
       "1             0.968657             0.982194           0.951616  ...   \n",
       "2             0.812712             0.824150           0.847672  ...   \n",
       "3             0.842509             0.840046           0.844609  ...   \n",
       "5             0.872618             0.886052           0.872929  ...   \n",
       "\n",
       "   2.431981981981982  2.433983983983984  2.4359859859859863  \\\n",
       "0           1.352781           1.349533            1.351634   \n",
       "1           0.999669           0.999658            1.000605   \n",
       "2           1.500942           1.510873            1.518674   \n",
       "3           1.301540           1.028991            1.079290   \n",
       "5           1.285539           1.287056            1.290116   \n",
       "\n",
       "   2.437987987987988  2.43998998998999  2.441991991991992  2.443993993993994  \\\n",
       "0           1.357668          1.359615           1.353470           1.352754   \n",
       "1           1.001571          1.000018           0.995364           0.995263   \n",
       "2           1.520577          1.514157           1.501261           1.500853   \n",
       "3           1.404117          1.599850           1.388267           1.065285   \n",
       "5           1.293470          1.293911           1.290567           1.292408   \n",
       "\n",
       "   2.4459959959959963  2.447997997997998    2.45  \n",
       "0            1.373783           1.394556  1.3545  \n",
       "1            1.008854           1.031162  1.0430  \n",
       "2            1.533893           1.566823  1.5112  \n",
       "3            1.054813           1.368533  1.6032  \n",
       "5            1.309674           1.324134  1.2889  \n",
       "\n",
       "[5 rows x 1000 columns]"
      ]
     },
     "execution_count": 59,
     "metadata": {},
     "output_type": "execute_result"
    }
   ],
   "source": [
    "X_data = df[df.columns[2:]]\n",
    "y_data = df.spect_b # label\n",
    "y_data_code = y_data.astype(\"category\").cat.codes # label numérica\n",
    "\n",
    "X_data.head()"
   ]
  },
  {
   "cell_type": "markdown",
   "metadata": {},
   "source": [
    "La longitud de onda máxima a la cual se considera rango visible es a los $0.730 \\mu m$."
   ]
  },
  {
   "cell_type": "code",
   "execution_count": 60,
   "metadata": {},
   "outputs": [
    {
     "name": "stdout",
     "output_type": "stream",
     "text": [
      "0.7342842842842843\n",
      "Shape dataframe espectro visible (100, 142)\n"
     ]
    }
   ],
   "source": [
    "print(X_data.columns[142])\n",
    "X_visible = X_data[X_data.columns[:142]]\n",
    "print('Shape dataframe espectro visible',X_visible.shape)"
   ]
  },
  {
   "cell_type": "code",
   "execution_count": 61,
   "metadata": {},
   "outputs": [
    {
     "name": "stdout",
     "output_type": "stream",
     "text": [
      "Shape dataframe espectro infrarrojo cercano (100, 858)\n"
     ]
    }
   ],
   "source": [
    "X_nir = X_data[X_data.columns[142:]]\n",
    "print('Shape dataframe espectro infrarrojo cercano',X_nir.shape)"
   ]
  },
  {
   "cell_type": "markdown",
   "metadata": {},
   "source": [
    "## Resultados con el dataframe del espectro **Visible**"
   ]
  },
  {
   "cell_type": "code",
   "execution_count": 62,
   "metadata": {},
   "outputs": [
    {
     "data": {
      "text/plain": [
       "((70, 142), (30, 142), (70,), (30,))"
      ]
     },
     "execution_count": 62,
     "metadata": {},
     "output_type": "execute_result"
    }
   ],
   "source": [
    "X_train_vis, X_test_vis, y_train_vis, y_test_vis = train_test_split(X_visible, y_data_code, test_size=0.3, random_state=1)\n",
    "X_train_vis.shape, X_test_vis.shape, y_train_vis.shape, y_test_vis.shape"
   ]
  },
  {
   "cell_type": "markdown",
   "metadata": {},
   "source": [
    "#### Entrenamiento y GridSearch: Búsqueda de mejores hiperparámetros"
   ]
  },
  {
   "cell_type": "code",
   "execution_count": 63,
   "metadata": {},
   "outputs": [],
   "source": [
    "def graph_neighbors(X_train, y_train, X_test, y_test):\n",
    "    \n",
    "    training_accuracy = []\n",
    "    test_accuracy = []\n",
    "\n",
    "    # try n_neighbors from 1 to 10\n",
    "    neighbors_settings = range(1, 20)\n",
    "\n",
    "    for n_neighbors in neighbors_settings:\n",
    "        clf = KNeighborsClassifier(n_neighbors=n_neighbors)\n",
    "        clf.fit(X_train, y_train)\n",
    "        # record training set accuracy\n",
    "        training_accuracy.append(clf.score(X_train, y_train))\n",
    "        # record generalization accuracy\n",
    "        test_accuracy.append(clf.score(X_test, y_test))\n",
    "\n",
    "\n",
    "    plt.plot(neighbors_settings, training_accuracy, label=\"training accuracy\")\n",
    "    plt.plot(neighbors_settings, test_accuracy, label=\"test accuracy\")\n",
    "    plt.ylabel(\"Accuracy\")\n",
    "    plt.xlabel(\"n_neighbors\")\n",
    "    plt.legend()"
   ]
  },
  {
   "cell_type": "code",
   "execution_count": 64,
   "metadata": {},
   "outputs": [
    {
     "data": {
      "image/png": "[encoded data removed]",
      "text/plain": [
       "<Figure size 432x288 with 1 Axes>"
      ]
     },
     "metadata": {
      "needs_background": "light"
     },
     "output_type": "display_data"
    }
   ],
   "source": [
    "graph_neighbors(X_train_vis, y_train_vis, X_test_vis, y_test_vis)"
   ]
  },
  {
   "cell_type": "code",
   "execution_count": 65,
   "metadata": {},
   "outputs": [],
   "source": [
    "def model(X_train, y_train):\n",
    "    \n",
    "    knn = KNeighborsClassifier()  \n",
    "    \n",
    "    param_grid = dict(n_neighbors=list(range(1, 20)), \n",
    "                      weights=['uniform', 'distance'],\n",
    "                      algorithm=['auto', 'ball_tree', 'kd_tree', 'brute'])\n",
    "\n",
    "    grid = GridSearchCV(knn, param_grid, cv=5)\n",
    "    grid.fit(X_train, y_train)\n",
    "    \n",
    "    best_param = grid.best_params_\n",
    "    \n",
    "    print('Mejores hiperparámetros',grid.best_params_)\n",
    "    print('Mejor score',grid.best_score_)\n",
    "    \n",
    "    return best_param"
   ]
  },
  {
   "cell_type": "code",
   "execution_count": 66,
   "metadata": {},
   "outputs": [
    {
     "name": "stderr",
     "output_type": "stream",
     "text": [
      "/Users/daniandreacosmo/opt/anaconda3/lib/python3.7/site-packages/sklearn/model_selection/_split.py:667: UserWarning: The least populated class in y has only 4 members, which is less than n_splits=5.\n",
      "  % (min_groups, self.n_splits)), UserWarning)\n"
     ]
    },
    {
     "name": "stdout",
     "output_type": "stream",
     "text": [
      "Mejores hiperparámetros {'algorithm': 'auto', 'n_neighbors': 1, 'weights': 'uniform'}\n",
      "Mejor score 0.9\n"
     ]
    }
   ],
   "source": [
    "best_param_vis = model(X_train_vis, y_train_vis)"
   ]
  },
  {
   "cell_type": "markdown",
   "metadata": {},
   "source": [
    "### Modelo final con espectro visible"
   ]
  },
  {
   "cell_type": "code",
   "execution_count": 79,
   "metadata": {},
   "outputs": [],
   "source": [
    "def train_test_model(X_train, y_train, X_test, y_test, y_data, best_param):\n",
    "    \n",
    "    clf = KNeighborsClassifier(**best_param)\n",
    "    clf.fit(X_train, y_train)\n",
    "\n",
    "    p = clf.predict(X_test)\n",
    "    \n",
    "    #Importe el módulo de métricas de sklearn para medir el desempeño (accuracy_score) de su modelo.\n",
    "    print(\"Train set Accuracy: \", metrics.accuracy_score(y_train, clf.predict(X_train)))\n",
    "    print(\"Test set Accuracy: \", metrics.accuracy_score(y_test, p))\n",
    "    \n",
    "    # Matrix de confusión\n",
    "    mat = confusion_matrix(y_test, p)\n",
    "    sns.heatmap(mat.T, square=True, annot=True, fmt='d', cbar=False, cmap=\"Blues\")\n",
    "    plt.title('Matriz de confusión')\n",
    "    plt.xlabel('true label')\n",
    "    plt.ylabel('predicted label')\n",
    "    print(classification_report(y_test, p))\n",
    "    \n",
    "    \n",
    "    #train model with cv of 5 \n",
    "    cv_scores = cross_val_score(clf, X_test , y_test, cv=5)\n",
    "    #print each cv score (accuracy) and average them\n",
    "    print(cv_scores)\n",
    "    print('cv_scores mean:{}'.format(np.mean(cv_scores)))\n",
    "    \n",
    "    # Show first two principal components without scaler\n",
    "    pca = PCA()\n",
    "    plt.figure(figsize=(8,6))\n",
    "    Xt = pca.fit_transform(X_test)\n",
    "    plot = plt.scatter(Xt[:,0], Xt[:,1], c=y_test)\n",
    "    plt.legend(handles=plot.legend_elements()[0], labels=list(y_data))\n",
    "    plt.xlabel(\"PC1\")\n",
    "    plt.ylabel(\"PC2\")\n",
    "    plt.title(\"First two principal components\")\n",
    "    plt.show()\n",
    "    \n",
    "    return p"
   ]
  },
  {
   "cell_type": "code",
   "execution_count": 81,
   "metadata": {},
   "outputs": [
    {
     "name": "stdout",
     "output_type": "stream",
     "text": [
      "Train set Accuracy:  1.0\n",
      "Test set Accuracy:  0.7666666666666667\n",
      "              precision    recall  f1-score   support\n",
      "\n",
      "           0       1.00      1.00      1.00         3\n",
      "           1       0.40      1.00      0.57         2\n",
      "           2       1.00      0.80      0.89         5\n",
      "           3       0.88      0.70      0.78        10\n",
      "           4       0.50      0.75      0.60         4\n",
      "           5       1.00      0.67      0.80         6\n",
      "\n",
      "    accuracy                           0.77        30\n",
      "   macro avg       0.80      0.82      0.77        30\n",
      "weighted avg       0.85      0.77      0.79        30\n",
      "\n",
      "[0.83333333 0.66666667 0.83333333 0.83333333 0.83333333]\n",
      "cv_scores mean:0.8\n"
     ]
    },
    {
     "name": "stderr",
     "output_type": "stream",
     "text": [
      "/Users/daniandreacosmo/opt/anaconda3/lib/python3.7/site-packages/sklearn/model_selection/_split.py:667: UserWarning: The least populated class in y has only 2 members, which is less than n_splits=5.\n",
      "  % (min_groups, self.n_splits)), UserWarning)\n"
     ]
    },
    {
     "data": {
      "image/png": "[encoded data removed]",
      "text/plain": [
       "<Figure size 432x288 with 1 Axes>"
      ]
     },
     "metadata": {
      "needs_background": "light"
     },
     "output_type": "display_data"
    },
    {
     "data": {
      "image/png": "[encoded data removed]",
      "text/plain": [
       "<Figure size 576x432 with 1 Axes>"
      ]
     },
     "metadata": {
      "needs_background": "light"
     },
     "output_type": "display_data"
    }
   ],
   "source": [
    "pred_vis = train_test_model(X_train_vis, \n",
    "                            y_train_vis, \n",
    "                            X_test_vis, \n",
    "                            y_test_vis, \n",
    "                            y_data, \n",
    "                            best_param_vis)"
   ]
  },
  {
   "cell_type": "code",
   "execution_count": 69,
   "metadata": {
    "scrolled": false
   },
   "outputs": [
    {
     "data": {
      "text/html": [
       "<div>\n",
       "<style scoped>\n",
       "    .dataframe tbody tr th:only-of-type {\n",
       "        vertical-align: middle;\n",
       "    }\n",
       "\n",
       "    .dataframe tbody tr th {\n",
       "        vertical-align: top;\n",
       "    }\n",
       "\n",
       "    .dataframe thead th {\n",
       "        text-align: right;\n",
       "    }\n",
       "</style>\n",
       "<table border=\"1\" class=\"dataframe\">\n",
       "  <thead>\n",
       "    <tr style=\"text-align: right;\">\n",
       "      <th></th>\n",
       "      <th>y_test</th>\n",
       "      <th>p</th>\n",
       "    </tr>\n",
       "  </thead>\n",
       "  <tbody>\n",
       "    <tr>\n",
       "      <th>0</th>\n",
       "      <td>3</td>\n",
       "      <td>3</td>\n",
       "    </tr>\n",
       "    <tr>\n",
       "      <th>1</th>\n",
       "      <td>5</td>\n",
       "      <td>5</td>\n",
       "    </tr>\n",
       "    <tr>\n",
       "      <th>2</th>\n",
       "      <td>3</td>\n",
       "      <td>3</td>\n",
       "    </tr>\n",
       "    <tr>\n",
       "      <th>3</th>\n",
       "      <td>4</td>\n",
       "      <td>3</td>\n",
       "    </tr>\n",
       "    <tr>\n",
       "      <th>4</th>\n",
       "      <td>1</td>\n",
       "      <td>1</td>\n",
       "    </tr>\n",
       "    <tr>\n",
       "      <th>5</th>\n",
       "      <td>3</td>\n",
       "      <td>3</td>\n",
       "    </tr>\n",
       "    <tr>\n",
       "      <th>6</th>\n",
       "      <td>5</td>\n",
       "      <td>1</td>\n",
       "    </tr>\n",
       "    <tr>\n",
       "      <th>7</th>\n",
       "      <td>3</td>\n",
       "      <td>3</td>\n",
       "    </tr>\n",
       "    <tr>\n",
       "      <th>8</th>\n",
       "      <td>0</td>\n",
       "      <td>0</td>\n",
       "    </tr>\n",
       "    <tr>\n",
       "      <th>9</th>\n",
       "      <td>3</td>\n",
       "      <td>4</td>\n",
       "    </tr>\n",
       "    <tr>\n",
       "      <th>10</th>\n",
       "      <td>3</td>\n",
       "      <td>3</td>\n",
       "    </tr>\n",
       "    <tr>\n",
       "      <th>11</th>\n",
       "      <td>5</td>\n",
       "      <td>5</td>\n",
       "    </tr>\n",
       "    <tr>\n",
       "      <th>12</th>\n",
       "      <td>0</td>\n",
       "      <td>0</td>\n",
       "    </tr>\n",
       "    <tr>\n",
       "      <th>13</th>\n",
       "      <td>5</td>\n",
       "      <td>1</td>\n",
       "    </tr>\n",
       "    <tr>\n",
       "      <th>14</th>\n",
       "      <td>0</td>\n",
       "      <td>0</td>\n",
       "    </tr>\n",
       "    <tr>\n",
       "      <th>15</th>\n",
       "      <td>5</td>\n",
       "      <td>5</td>\n",
       "    </tr>\n",
       "    <tr>\n",
       "      <th>16</th>\n",
       "      <td>2</td>\n",
       "      <td>2</td>\n",
       "    </tr>\n",
       "    <tr>\n",
       "      <th>17</th>\n",
       "      <td>4</td>\n",
       "      <td>4</td>\n",
       "    </tr>\n",
       "    <tr>\n",
       "      <th>18</th>\n",
       "      <td>3</td>\n",
       "      <td>3</td>\n",
       "    </tr>\n",
       "    <tr>\n",
       "      <th>19</th>\n",
       "      <td>2</td>\n",
       "      <td>2</td>\n",
       "    </tr>\n",
       "    <tr>\n",
       "      <th>20</th>\n",
       "      <td>3</td>\n",
       "      <td>4</td>\n",
       "    </tr>\n",
       "    <tr>\n",
       "      <th>21</th>\n",
       "      <td>2</td>\n",
       "      <td>1</td>\n",
       "    </tr>\n",
       "    <tr>\n",
       "      <th>22</th>\n",
       "      <td>3</td>\n",
       "      <td>3</td>\n",
       "    </tr>\n",
       "    <tr>\n",
       "      <th>23</th>\n",
       "      <td>4</td>\n",
       "      <td>4</td>\n",
       "    </tr>\n",
       "    <tr>\n",
       "      <th>24</th>\n",
       "      <td>5</td>\n",
       "      <td>5</td>\n",
       "    </tr>\n",
       "    <tr>\n",
       "      <th>25</th>\n",
       "      <td>4</td>\n",
       "      <td>4</td>\n",
       "    </tr>\n",
       "    <tr>\n",
       "      <th>26</th>\n",
       "      <td>2</td>\n",
       "      <td>2</td>\n",
       "    </tr>\n",
       "    <tr>\n",
       "      <th>27</th>\n",
       "      <td>1</td>\n",
       "      <td>1</td>\n",
       "    </tr>\n",
       "    <tr>\n",
       "      <th>28</th>\n",
       "      <td>3</td>\n",
       "      <td>4</td>\n",
       "    </tr>\n",
       "    <tr>\n",
       "      <th>29</th>\n",
       "      <td>2</td>\n",
       "      <td>2</td>\n",
       "    </tr>\n",
       "  </tbody>\n",
       "</table>\n",
       "</div>"
      ],
      "text/plain": [
       "    y_test  p\n",
       "0        3  3\n",
       "1        5  5\n",
       "2        3  3\n",
       "3        4  3\n",
       "4        1  1\n",
       "5        3  3\n",
       "6        5  1\n",
       "7        3  3\n",
       "8        0  0\n",
       "9        3  4\n",
       "10       3  3\n",
       "11       5  5\n",
       "12       0  0\n",
       "13       5  1\n",
       "14       0  0\n",
       "15       5  5\n",
       "16       2  2\n",
       "17       4  4\n",
       "18       3  3\n",
       "19       2  2\n",
       "20       3  4\n",
       "21       2  1\n",
       "22       3  3\n",
       "23       4  4\n",
       "24       5  5\n",
       "25       4  4\n",
       "26       2  2\n",
       "27       1  1\n",
       "28       3  4\n",
       "29       2  2"
      ]
     },
     "execution_count": 69,
     "metadata": {},
     "output_type": "execute_result"
    }
   ],
   "source": [
    "compa = pd.DataFrame({'y_test': y_test_vis.values, 'p': pred_vis})\n",
    "compa"
   ]
  },
  {
   "cell_type": "markdown",
   "metadata": {},
   "source": [
    "## Resultados con el dataframe del espectro **Infrarrojo Cercano**"
   ]
  },
  {
   "cell_type": "code",
   "execution_count": 70,
   "metadata": {},
   "outputs": [
    {
     "data": {
      "text/plain": [
       "((70, 858), (30, 858), (70,), (30,))"
      ]
     },
     "execution_count": 70,
     "metadata": {},
     "output_type": "execute_result"
    }
   ],
   "source": [
    "X_train_nir, X_test_nir, y_train_nir, y_test_nir = train_test_split(X_nir, y_data_code, test_size=0.3, random_state=1)\n",
    "X_train_nir.shape, X_test_nir.shape, y_train_nir.shape, y_test_nir.shape"
   ]
  },
  {
   "cell_type": "code",
   "execution_count": 71,
   "metadata": {},
   "outputs": [
    {
     "data": {
      "image/png": "[encoded data removed]",
      "text/plain": [
       "<Figure size 432x288 with 1 Axes>"
      ]
     },
     "metadata": {
      "needs_background": "light"
     },
     "output_type": "display_data"
    }
   ],
   "source": [
    "graph_neighbors(X_train_nir, y_train_nir, X_test_nir, y_test_nir)"
   ]
  },
  {
   "cell_type": "code",
   "execution_count": 72,
   "metadata": {},
   "outputs": [
    {
     "name": "stderr",
     "output_type": "stream",
     "text": [
      "/Users/daniandreacosmo/opt/anaconda3/lib/python3.7/site-packages/sklearn/model_selection/_split.py:667: UserWarning: The least populated class in y has only 4 members, which is less than n_splits=5.\n",
      "  % (min_groups, self.n_splits)), UserWarning)\n"
     ]
    },
    {
     "name": "stdout",
     "output_type": "stream",
     "text": [
      "Mejores hiperparámetros {'algorithm': 'auto', 'n_neighbors': 3, 'weights': 'distance'}\n",
      "Mejor score 0.7\n"
     ]
    }
   ],
   "source": [
    "best_param_nir = model(X_train_nir, y_train_nir)"
   ]
  },
  {
   "cell_type": "code",
   "execution_count": 82,
   "metadata": {
    "scrolled": false
   },
   "outputs": [
    {
     "name": "stdout",
     "output_type": "stream",
     "text": [
      "Train set Accuracy:  1.0\n",
      "Test set Accuracy:  0.8333333333333334\n",
      "              precision    recall  f1-score   support\n",
      "\n",
      "           0       1.00      0.67      0.80         3\n",
      "           1       1.00      0.50      0.67         2\n",
      "           2       0.62      1.00      0.77         5\n",
      "           3       1.00      0.90      0.95        10\n",
      "           4       0.67      1.00      0.80         4\n",
      "           5       1.00      0.67      0.80         6\n",
      "\n",
      "    accuracy                           0.83        30\n",
      "   macro avg       0.88      0.79      0.80        30\n",
      "weighted avg       0.89      0.83      0.84        30\n",
      "\n",
      "[0.5        0.5        0.83333333 0.66666667 1.        ]\n",
      "cv_scores mean:0.7\n"
     ]
    },
    {
     "name": "stderr",
     "output_type": "stream",
     "text": [
      "/Users/daniandreacosmo/opt/anaconda3/lib/python3.7/site-packages/sklearn/model_selection/_split.py:667: UserWarning: The least populated class in y has only 2 members, which is less than n_splits=5.\n",
      "  % (min_groups, self.n_splits)), UserWarning)\n"
     ]
    },
    {
     "data": {
      "image/png": "[encoded data removed]",
      "text/plain": [
       "<Figure size 432x288 with 1 Axes>"
      ]
     },
     "metadata": {
      "needs_background": "light"
     },
     "output_type": "display_data"
    },
    {
     "data": {
      "image/png": "[encoded data removed]",
      "text/plain": [
       "<Figure size 576x432 with 1 Axes>"
      ]
     },
     "metadata": {
      "needs_background": "light"
     },
     "output_type": "display_data"
    }
   ],
   "source": [
    "pred_nir = train_test_model(X_train_nir, \n",
    "                            y_train_nir, \n",
    "                            X_test_nir, \n",
    "                            y_test_nir, \n",
    "                            y_data, \n",
    "                            best_param_nir)"
   ]
  },
  {
   "cell_type": "code",
   "execution_count": null,
   "metadata": {},
   "outputs": [],
   "source": []
  },
  {
   "cell_type": "code",
   "execution_count": null,
   "metadata": {},
   "outputs": [],
   "source": []
  },
  {
   "cell_type": "code",
   "execution_count": null,
   "metadata": {},
   "outputs": [],
   "source": []
  }
 ],
 "metadata": {
  "kernelspec": {
   "display_name": "Python 3",
   "language": "python",
   "name": "python3"
  },
  "language_info": {
   "codemirror_mode": {
    "name": "ipython",
    "version": 3
   },
   "file_extension": ".py",
   "mimetype": "text/x-python",
   "name": "python",
   "nbconvert_exporter": "python",
   "pygments_lexer": "ipython3",
   "version": "3.7.6"
  }
 },
 "nbformat": 4,
 "nbformat_minor": 4
}
